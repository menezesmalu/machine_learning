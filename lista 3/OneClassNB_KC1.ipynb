{
 "cells": [
  {
   "cell_type": "code",
   "execution_count": 1,
   "metadata": {},
   "outputs": [],
   "source": [
    "import numpy as np\n",
    "import pandas as pd\n",
    "\n",
    "import io\n",
    "import urllib.request\n",
    "from scipy.io import arff\n",
    "\n",
    "from sklearn.preprocessing import MinMaxScaler\n",
    "from sklearn.model_selection import KFold\n",
    "\n"
   ]
  },
  {
   "cell_type": "code",
   "execution_count": null,
   "metadata": {},
   "outputs": [],
   "source": [
    "url = 'http://promise.site.uottawa.ca/SERepository/datasets/kc1.arff'\n",
    "ftpstream = urllib.request.urlopen(url)\n",
    "data, meta = arff.loadarff(io.StringIO(ftpstream.read().decode('utf-8')))\n",
    "df = pd.DataFrame(data)\n",
    "df = df.sample(frac=1, random_state=20)\n",
    "\n",
    "#Transforming in boolean class\n",
    "df['defects'] = df['defects'].apply(str).str.replace(\"b|'\", '')\n",
    "df['defects'] = df['defects'].apply(lambda x: 1 if x == 'false' else -1)\n",
    "\n",
    "#Normalizing values\n",
    "df"
   ]
  },
  {
   "cell_type": "code",
   "execution_count": null,
   "metadata": {},
   "outputs": [],
   "source": [
    "def attr_class(df):\n",
    "    Y_df = df['defects']\n",
    "    X_df = df.drop(columns=['defects'])\n",
    "    \n",
    "    scaler = MinMaxScaler(feature_range=(0, 1))\n",
    "    x_scaled = scaler.fit_transform(X_df)\n",
    "    X_df = pd.DataFrame(x_scaled)\n",
    "    return X_df, Y_df"
   ]
  },
  {
   "cell_type": "code",
   "execution_count": null,
   "metadata": {},
   "outputs": [],
   "source": [
    "class NaiveBayes:\n",
    "    def __init__(self, nu=0.01):\n",
    "        self.nu = nu\n",
    "    \n",
    "    def fit(self, X):\n",
    "        n_samples, n_features = X.shape\n",
    "        self._classes = 1\n",
    "        n_classes = 1\n",
    "        \n",
    "        self._mean = np.zeros(n_features, dtype=np.float64)\n",
    "        self._var  = np.zeros(n_features, dtype=np.float64)\n",
    "        \n",
    "        self._mean = X.mean(axis=0)\n",
    "        self._var  = X.var(axis=0)\n",
    "        self._priors = self.nu \n",
    "        \n",
    "    def predict(self, X):\n",
    "        y_pred = []\n",
    "        for _, row in X.iterrows():\n",
    "            y = self._predict(row)\n",
    "            y_pred.append(y)\n",
    "        return np.array(y_pred)\n",
    "    \n",
    "    def _predict(self, x):\n",
    "        prior = np.log(self._priors)\n",
    "        posterior = np.sum(np.log(self._pdf(x)))\n",
    "        posterior = prior + posterior\n",
    "        return 1 if posterior > 0 else -1\n",
    "    \n",
    "    def _pdf(self, x):\n",
    "        mean = self._mean[1]\n",
    "        var  = self._var[1]\n",
    "        numerator   = np.exp(- (x-mean)**2 / (2* var))\n",
    "        denominator = np.sqrt(2 * np.pi * var)\n",
    "        return (numerator/denominator)\n",
    "        "
   ]
  },
  {
   "cell_type": "code",
   "execution_count": null,
   "metadata": {},
   "outputs": [],
   "source": [
    "def run(df):\n",
    "    kf = KFold(n_splits=5)\n",
    "    tamanhos = [0.3, 0.4, 0.5]\n",
    "    nu = len(df[df['defects']== 1]) / len(df)\n",
    "    for tamanho in tamanhos:\n",
    "        accuracies = []\n",
    "        for train, test in kf.split(df):\n",
    "            \n",
    "            _train = int(len(train) * tamanho)\n",
    "            _test = len(train) - _train\n",
    "            \n",
    "            df_res   = df.iloc[train]\n",
    "            df_train = df_res.head(_train)\n",
    "            df_valid = df_res.tail(_test)\n",
    "            df_test  = df.iloc[test]   \n",
    "            \n",
    "            df_train = df_train[df_train['defects'] == 1]\n",
    "            \n",
    "            df_train_full = pd.concat([df_valid, df_test])\n",
    "            \n",
    "            X_train, Y_train = attr_class(df_train)\n",
    "            X_valid, Y_valid = attr_class(df_valid)\n",
    "            X_test, Y_test = attr_class(df_train_full)\n",
    "            \n",
    "\n",
    "            clf = NaiveBayes(nu)\n",
    "            clf.fit(X_train)\n",
    "            predictions = clf.predict(X_test)\n",
    "            acc = (np.sum(predictions == Y_test) / len(df_train_full)) * 100\n",
    "            accuracies.append(acc)\n",
    "        print('ruido: {}%'.format(tamanho))\n",
    "        print(df_train.shape)\n",
    "        print(np.mean(accuracies))\n",
    "        \n",
    "run(df)"
   ]
  },
  {
   "cell_type": "markdown",
   "metadata": {},
   "source": [
    "ruido: 0.3%\n",
    "(96, 22)\n",
    "80.45340050377834\n",
    "ruido: 0.4%\n",
    "(129, 22)\n",
    "80.92324734926413\n",
    "ruido: 0.5%\n",
    "(166, 22)\n",
    "80.91756374514152"
   ]
  }
 ],
 "metadata": {
  "kernelspec": {
   "display_name": "Python 3",
   "language": "python",
   "name": "python3"
  },
  "language_info": {
   "codemirror_mode": {
    "name": "ipython",
    "version": 3
   },
   "file_extension": ".py",
   "mimetype": "text/x-python",
   "name": "python",
   "nbconvert_exporter": "python",
   "pygments_lexer": "ipython3",
   "version": "3.6.9"
  }
 },
 "nbformat": 4,
 "nbformat_minor": 4
}
