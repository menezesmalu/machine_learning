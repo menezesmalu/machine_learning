{
 "cells": [
  {
   "cell_type": "markdown",
   "metadata": {
    "id": "eTpAG3UCd33h"
   },
   "source": [
    "https://docs.google.com/forms/d/e/1FAIpQLSc7AeSivMlUKS490NAsBtZ9fweQvBQAZGlR-aKbGq2GIdS-_A/viewform?hr_submission=ChcIrpDc8gMSDwjt08HinAgSBgiGjdbHJxAB&authuser=1"
   ]
  },
  {
   "cell_type": "code",
   "execution_count": 1,
   "metadata": {
    "id": "jjcWEd14d33o"
   },
   "outputs": [],
   "source": [
    "import pandas as pd\n",
    "import numpy as np\n",
    "\n",
    "import urllib.request\n",
    "import io\n",
    "import time\n",
    "\n",
    "\n",
    "from scipy.io import arff\n",
    "from sklearn.model_selection import KFold\n",
    "from collections import Counter\n",
    "\n",
    "from sklearn.preprocessing import MinMaxScaler\n",
    "import re"
   ]
  },
  {
   "cell_type": "markdown",
   "metadata": {
    "id": "n8BBhXWvd33p"
   },
   "source": [
    "# Preparação de dados\n",
    "\n",
    "* extração do dataframe"
   ]
  },
  {
   "cell_type": "code",
   "execution_count": 2,
   "metadata": {
    "id": "j9G9ZvGHE2lq"
   },
   "outputs": [],
   "source": [
    "url = 'http://promise.site.uottawa.ca/SERepository/datasets/pc1.arff'\n",
    "ftpstream = urllib.request.urlopen(url)\n",
    "data, meta = arff.loadarff(io.StringIO(ftpstream.read().decode('utf-8')))\n",
    "pc1 = pd.DataFrame(data)\n",
    "\n",
    "Y_pc1 = pc1['defects']\n",
    "X_pc1 = pc1.drop(columns=['defects'])\n",
    "\n",
    "#Transforming in boolean class\n",
    "Y_pc1 = Y_pc1.apply(str).str.replace(\"b|'\", '')\n",
    "Y_pc1 = Y_pc1.apply(lambda x: True if x == 'true' else False)\n",
    "\n",
    "#Normalizing values\n",
    "scaler = MinMaxScaler(feature_range=(0, 1))\n",
    "x_scaled = scaler.fit_transform(X_pc1)\n",
    "X_pc1 = pd.DataFrame(x_scaled)"
   ]
  },
  {
   "cell_type": "code",
   "execution_count": 3,
   "metadata": {
    "id": "bRL-rZuTd33q"
   },
   "outputs": [],
   "source": [
    "url = 'http://promise.site.uottawa.ca/SERepository/datasets/kc2.arff'\n",
    "ftpstream = urllib.request.urlopen(url)\n",
    "data, meta = arff.loadarff(io.StringIO(ftpstream.read().decode('utf-8')))\n",
    "kc2 = pd.DataFrame(data)\n",
    "\n",
    "Y_kc2 = kc2['problems']\n",
    "X_kc2 = kc2.drop(columns=['problems'])\n",
    "\n",
    "#Transforming in boolean class\n",
    "Y_kc2 = Y_kc2.apply(str).str.replace(\"b|'\", '')\n",
    "Y_kc2 = Y_kc2.apply(lambda x: True if x == 'yes' else False)\n",
    "\n",
    "#Normalizing values\n",
    "scaler = MinMaxScaler(feature_range=(0, 1))\n",
    "x_scaled = scaler.fit_transform(X_kc2)\n",
    "X_kc2 = pd.DataFrame(x_scaled)"
   ]
  },
  {
   "cell_type": "markdown",
   "metadata": {
    "id": "cLU1pzw_d33r"
   },
   "source": [
    "# Algoritmos"
   ]
  },
  {
   "cell_type": "code",
   "execution_count": 4,
   "metadata": {
    "id": "2gnGwQ7Hd33r"
   },
   "outputs": [],
   "source": [
    "def  euclidian_distance(x1, x2):\n",
    "    x = [x1.iloc[i] for i in range(len(x1))]\n",
    "    return np.sqrt(np.sum((x-x2)**2))\n"
   ]
  },
  {
   "cell_type": "markdown",
   "metadata": {
    "id": "TaQe1qPw7Nea"
   },
   "source": [
    "## KNN \n"
   ]
  },
  {
   "cell_type": "code",
   "execution_count": 5,
   "metadata": {
    "id": "302mZ_0cd33r"
   },
   "outputs": [],
   "source": [
    "class KNN:\n",
    "\n",
    "    def __init__(self, k):\n",
    "        self.k = k\n",
    "\n",
    "    def fit(self, X, y):\n",
    "        self.X_train = X\n",
    "        self.y_train = y\n",
    "\n",
    "\n",
    "    def predict(self, X):\n",
    "        predicted_labels = []\n",
    "        for _, row in X.iterrows():\n",
    "            predicted_labels.append(self.predict_func(row))\n",
    "\n",
    "        return np.array(predicted_labels)\n",
    "        \n",
    "    def predict_func(self, x):\n",
    "        distances = []\n",
    "        for _, row in self.X_train.iterrows():\n",
    "            distances.append(euclidian_distance(x, row))\n",
    "          \n",
    "        k_indices = np.argsort(distances)[:self.k]        \n",
    "        k_nearest_labels = [self.y_train.iloc[i] for i in k_indices]\n",
    "\n",
    "        unique, counts = np.unique(k_nearest_labels, return_counts=True)\n",
    "        predicted = unique[counts.argmax()]\n",
    "\n",
    "        return predicted"
   ]
  },
  {
   "cell_type": "code",
   "execution_count": 6,
   "metadata": {
    "id": "2AYeDVKLd33s"
   },
   "outputs": [],
   "source": [
    "def run(X, Y, df, 1):\n",
    "    kf = KFold(n_splits=10)\n",
    "\n",
    "    results = []\n",
    "    totalTime = 0\n",
    "\n",
    "    for k in [1,2,3,5,7,9,11,13,15]:\n",
    "        begin = time.time()\n",
    "\n",
    "        accuracies = []\n",
    "        knn = KNN(k=k)\n",
    "\n",
    "        for train, test in kf.split(X):\n",
    "            knn.fit(X.iloc[train], Y.iloc[train])\n",
    "            predictions = knn.predict(X.iloc[test])\n",
    "\n",
    "            acc = (np.sum(predictions == Y.iloc[test]) / len(test)) * 100\n",
    "            \n",
    "            accuracies.append(acc)\n",
    "            end = time.time()\n",
    "            totalTime += end-begin\n",
    "            temp= {'k': k,\n",
    "                'mean': np.mean(accuracies),\n",
    "                'std': np.std(accuracies),\n",
    "                'time':end - begin,\n",
    "                'df': df}\n",
    "\n",
    "        results.append(temp)\n",
    "\n",
    "\n",
    "    print(\"Tempo total para df {}: {}\".format(df, totalTime))\n",
    "\n",
    "    return pd.DataFrame(results)\n",
    "  "
   ]
  },
  {
   "cell_type": "code",
   "execution_count": 7,
   "metadata": {},
   "outputs": [
    {
     "name": "stdout",
     "output_type": "stream",
     "text": [
      "Tempo total para df KC2: 9456.348000526428\n"
     ]
    },
    {
     "data": {
      "text/html": [
       "<div>\n",
       "<style scoped>\n",
       "    .dataframe tbody tr th:only-of-type {\n",
       "        vertical-align: middle;\n",
       "    }\n",
       "\n",
       "    .dataframe tbody tr th {\n",
       "        vertical-align: top;\n",
       "    }\n",
       "\n",
       "    .dataframe thead th {\n",
       "        text-align: right;\n",
       "    }\n",
       "</style>\n",
       "<table border=\"1\" class=\"dataframe\">\n",
       "  <thead>\n",
       "    <tr style=\"text-align: right;\">\n",
       "      <th></th>\n",
       "      <th>k</th>\n",
       "      <th>mean</th>\n",
       "      <th>std</th>\n",
       "      <th>time</th>\n",
       "      <th>df</th>\n",
       "    </tr>\n",
       "  </thead>\n",
       "  <tbody>\n",
       "    <tr>\n",
       "      <th>0</th>\n",
       "      <td>1</td>\n",
       "      <td>70.667634</td>\n",
       "      <td>19.064782</td>\n",
       "      <td>187.245130</td>\n",
       "      <td>KC2</td>\n",
       "    </tr>\n",
       "    <tr>\n",
       "      <th>1</th>\n",
       "      <td>2</td>\n",
       "      <td>76.186502</td>\n",
       "      <td>27.794459</td>\n",
       "      <td>181.572228</td>\n",
       "      <td>KC2</td>\n",
       "    </tr>\n",
       "    <tr>\n",
       "      <th>2</th>\n",
       "      <td>3</td>\n",
       "      <td>74.484761</td>\n",
       "      <td>22.780157</td>\n",
       "      <td>180.815501</td>\n",
       "      <td>KC2</td>\n",
       "    </tr>\n",
       "    <tr>\n",
       "      <th>3</th>\n",
       "      <td>5</td>\n",
       "      <td>78.127721</td>\n",
       "      <td>26.246144</td>\n",
       "      <td>183.465300</td>\n",
       "      <td>KC2</td>\n",
       "    </tr>\n",
       "    <tr>\n",
       "      <th>4</th>\n",
       "      <td>7</td>\n",
       "      <td>78.501451</td>\n",
       "      <td>26.629693</td>\n",
       "      <td>184.169111</td>\n",
       "      <td>KC2</td>\n",
       "    </tr>\n",
       "    <tr>\n",
       "      <th>5</th>\n",
       "      <td>9</td>\n",
       "      <td>78.878810</td>\n",
       "      <td>26.536029</td>\n",
       "      <td>217.081368</td>\n",
       "      <td>KC2</td>\n",
       "    </tr>\n",
       "    <tr>\n",
       "      <th>6</th>\n",
       "      <td>11</td>\n",
       "      <td>77.920900</td>\n",
       "      <td>27.900475</td>\n",
       "      <td>225.125783</td>\n",
       "      <td>KC2</td>\n",
       "    </tr>\n",
       "    <tr>\n",
       "      <th>7</th>\n",
       "      <td>13</td>\n",
       "      <td>76.959361</td>\n",
       "      <td>29.559018</td>\n",
       "      <td>190.711529</td>\n",
       "      <td>KC2</td>\n",
       "    </tr>\n",
       "    <tr>\n",
       "      <th>8</th>\n",
       "      <td>15</td>\n",
       "      <td>76.378810</td>\n",
       "      <td>28.889339</td>\n",
       "      <td>187.469172</td>\n",
       "      <td>KC2</td>\n",
       "    </tr>\n",
       "  </tbody>\n",
       "</table>\n",
       "</div>"
      ],
      "text/plain": [
       "    k       mean        std        time   df\n",
       "0   1  70.667634  19.064782  187.245130  KC2\n",
       "1   2  76.186502  27.794459  181.572228  KC2\n",
       "2   3  74.484761  22.780157  180.815501  KC2\n",
       "3   5  78.127721  26.246144  183.465300  KC2\n",
       "4   7  78.501451  26.629693  184.169111  KC2\n",
       "5   9  78.878810  26.536029  217.081368  KC2\n",
       "6  11  77.920900  27.900475  225.125783  KC2\n",
       "7  13  76.959361  29.559018  190.711529  KC2\n",
       "8  15  76.378810  28.889339  187.469172  KC2"
      ]
     },
     "execution_count": 7,
     "metadata": {},
     "output_type": "execute_result"
    }
   ],
   "source": [
    "kc2_df_knn = run(X_kc2, Y_kc2, 'KC2')\n",
    "kc2_df_knn\n"
   ]
  },
  {
   "cell_type": "code",
   "execution_count": 8,
   "metadata": {
    "id": "b4Prf2sejxaj"
   },
   "outputs": [
    {
     "name": "stdout",
     "output_type": "stream",
     "text": [
      "Tempo total para df PC1: 29379.468264579773\n"
     ]
    },
    {
     "data": {
      "text/html": [
       "<div>\n",
       "<style scoped>\n",
       "    .dataframe tbody tr th:only-of-type {\n",
       "        vertical-align: middle;\n",
       "    }\n",
       "\n",
       "    .dataframe tbody tr th {\n",
       "        vertical-align: top;\n",
       "    }\n",
       "\n",
       "    .dataframe thead th {\n",
       "        text-align: right;\n",
       "    }\n",
       "</style>\n",
       "<table border=\"1\" class=\"dataframe\">\n",
       "  <thead>\n",
       "    <tr style=\"text-align: right;\">\n",
       "      <th></th>\n",
       "      <th>k</th>\n",
       "      <th>mean</th>\n",
       "      <th>std</th>\n",
       "      <th>time</th>\n",
       "      <th>df</th>\n",
       "    </tr>\n",
       "  </thead>\n",
       "  <tbody>\n",
       "    <tr>\n",
       "      <th>0</th>\n",
       "      <td>1</td>\n",
       "      <td>87.565930</td>\n",
       "      <td>19.198220</td>\n",
       "      <td>770.739493</td>\n",
       "      <td>PC1</td>\n",
       "    </tr>\n",
       "    <tr>\n",
       "      <th>1</th>\n",
       "      <td>2</td>\n",
       "      <td>91.351351</td>\n",
       "      <td>20.318062</td>\n",
       "      <td>576.887565</td>\n",
       "      <td>PC1</td>\n",
       "    </tr>\n",
       "    <tr>\n",
       "      <th>2</th>\n",
       "      <td>3</td>\n",
       "      <td>89.099099</td>\n",
       "      <td>19.743711</td>\n",
       "      <td>560.583727</td>\n",
       "      <td>PC1</td>\n",
       "    </tr>\n",
       "    <tr>\n",
       "      <th>3</th>\n",
       "      <td>5</td>\n",
       "      <td>90.720721</td>\n",
       "      <td>20.108665</td>\n",
       "      <td>558.405540</td>\n",
       "      <td>PC1</td>\n",
       "    </tr>\n",
       "    <tr>\n",
       "      <th>4</th>\n",
       "      <td>7</td>\n",
       "      <td>91.261261</td>\n",
       "      <td>20.257453</td>\n",
       "      <td>560.298419</td>\n",
       "      <td>PC1</td>\n",
       "    </tr>\n",
       "    <tr>\n",
       "      <th>5</th>\n",
       "      <td>9</td>\n",
       "      <td>91.981982</td>\n",
       "      <td>20.482176</td>\n",
       "      <td>558.726840</td>\n",
       "      <td>PC1</td>\n",
       "    </tr>\n",
       "    <tr>\n",
       "      <th>6</th>\n",
       "      <td>11</td>\n",
       "      <td>92.072072</td>\n",
       "      <td>20.523147</td>\n",
       "      <td>562.071414</td>\n",
       "      <td>PC1</td>\n",
       "    </tr>\n",
       "    <tr>\n",
       "      <th>7</th>\n",
       "      <td>13</td>\n",
       "      <td>92.072072</td>\n",
       "      <td>20.523147</td>\n",
       "      <td>565.197404</td>\n",
       "      <td>PC1</td>\n",
       "    </tr>\n",
       "    <tr>\n",
       "      <th>8</th>\n",
       "      <td>15</td>\n",
       "      <td>92.072072</td>\n",
       "      <td>20.527102</td>\n",
       "      <td>567.341444</td>\n",
       "      <td>PC1</td>\n",
       "    </tr>\n",
       "  </tbody>\n",
       "</table>\n",
       "</div>"
      ],
      "text/plain": [
       "    k       mean        std        time   df\n",
       "0   1  87.565930  19.198220  770.739493  PC1\n",
       "1   2  91.351351  20.318062  576.887565  PC1\n",
       "2   3  89.099099  19.743711  560.583727  PC1\n",
       "3   5  90.720721  20.108665  558.405540  PC1\n",
       "4   7  91.261261  20.257453  560.298419  PC1\n",
       "5   9  91.981982  20.482176  558.726840  PC1\n",
       "6  11  92.072072  20.523147  562.071414  PC1\n",
       "7  13  92.072072  20.523147  565.197404  PC1\n",
       "8  15  92.072072  20.527102  567.341444  PC1"
      ]
     },
     "execution_count": 8,
     "metadata": {},
     "output_type": "execute_result"
    }
   ],
   "source": [
    "pc1_df_knn = run(X_pc1, Y_pc1, 'PC1')\n",
    "pc1_df_knn\n"
   ]
  },
  {
   "cell_type": "markdown",
   "metadata": {
    "id": "GNbEHrwHd37b"
   },
   "source": [
    "## KNN com peso\n"
   ]
  },
  {
   "cell_type": "code",
   "execution_count": 9,
   "metadata": {
    "id": "2DTYaLKQd37b"
   },
   "outputs": [],
   "source": [
    "class weight_KNN:\n",
    "\n",
    "    def __init__(self, k):\n",
    "        self.k = k\n",
    "    def fit(self, X, y):\n",
    "        self.X_train = X\n",
    "        self.y_train = y\n",
    "\n",
    "    def weight(self,weighted, k_nearest_labels):\n",
    "        pos = 0\n",
    "        neg = 0\n",
    "        for i in range(len(weighted)):  \n",
    "            if k_nearest_labels[i] == True:\n",
    "                pos += weighted[i]\n",
    "            else:\n",
    "                neg += weighted[i]\n",
    "        return True if pos > neg else False\n",
    "    \n",
    "    def distance(self, x):\n",
    "        distances = []\n",
    "        for _, row in self.X_train.iterrows():\n",
    "            distances.append(euclidian_distance(x, row))\n",
    "        return distances\n",
    "\n",
    "    def predict(self, X):\n",
    "        predicted_labels = []\n",
    "        for _, row in X.iterrows():\n",
    "            predicted_labels.append(self.predict_func(row))\n",
    "\n",
    "        return np.array(predicted_labels)\n",
    "\n",
    "    def predict_func(self, x):\n",
    "        distances = []\n",
    "        for _, row in self.X_train.iterrows():\n",
    "            distances.append(euclidian_distance(x, row))\n",
    "            \n",
    "        k_indices = np.argsort(distances)[:self.k]        \n",
    "        k_nearest_labels = [self.y_train.iloc[i] for i in k_indices]\n",
    "\n",
    "        weighted = [(1/(k**2) if k!= 0 else 0) for k in k_indices]\n",
    "        predicted = self.weight(weighted, k_nearest_labels)\n",
    "        \n",
    "        return predicted"
   ]
  },
  {
   "cell_type": "code",
   "execution_count": 10,
   "metadata": {
    "id": "YnRWMaMvgtBw"
   },
   "outputs": [],
   "source": [
    "def run_weight(X, Y, df):\n",
    "    kf = KFold(n_splits=10)\n",
    "\n",
    "    results = []\n",
    "    totalTime = 0\n",
    "\n",
    "    for k in [1,2,3,5,7,9,11,13,15]:\n",
    "        begin = time.time()\n",
    "\n",
    "        accuracies = []\n",
    "        knn = weight_KNN(k=k)\n",
    "\n",
    "        for train, test in kf.split(X):\n",
    "            knn.fit(X.iloc[train], Y.iloc[train])\n",
    "            predictions = knn.predict(X.iloc[test])\n",
    "\n",
    "            acc = (np.sum(predictions == Y.iloc[test]) / len(test)) * 100\n",
    "            accuracies.append(acc)\n",
    "            end = time.time()\n",
    "            totalTime += end-begin\n",
    "            temp= {'k': k,\n",
    "                'mean': np.mean(accuracies),\n",
    "                'std': np.std(accuracies),\n",
    "                'time':end - begin,\n",
    "                'df': df}\n",
    "\n",
    "        results.append(temp)\n",
    "\n",
    "\n",
    "    print(\"Tempo total para df {}: {}\".format(df, totalTime))\n",
    "\n",
    "    return pd.DataFrame(results)\n",
    "  "
   ]
  },
  {
   "cell_type": "code",
   "execution_count": 11,
   "metadata": {
    "id": "tw4sZicA1am2"
   },
   "outputs": [
    {
     "name": "stdout",
     "output_type": "stream",
     "text": [
      "Tempo total para df KC2: 6177.620866060257\n"
     ]
    },
    {
     "data": {
      "text/html": [
       "<div>\n",
       "<style scoped>\n",
       "    .dataframe tbody tr th:only-of-type {\n",
       "        vertical-align: middle;\n",
       "    }\n",
       "\n",
       "    .dataframe tbody tr th {\n",
       "        vertical-align: top;\n",
       "    }\n",
       "\n",
       "    .dataframe thead th {\n",
       "        text-align: right;\n",
       "    }\n",
       "</style>\n",
       "<table border=\"1\" class=\"dataframe\">\n",
       "  <thead>\n",
       "    <tr style=\"text-align: right;\">\n",
       "      <th></th>\n",
       "      <th>k</th>\n",
       "      <th>mean</th>\n",
       "      <th>std</th>\n",
       "      <th>time</th>\n",
       "      <th>df</th>\n",
       "    </tr>\n",
       "  </thead>\n",
       "  <tbody>\n",
       "    <tr>\n",
       "      <th>0</th>\n",
       "      <td>1</td>\n",
       "      <td>70.667634</td>\n",
       "      <td>19.064782</td>\n",
       "      <td>123.916963</td>\n",
       "      <td>KC2</td>\n",
       "    </tr>\n",
       "    <tr>\n",
       "      <th>1</th>\n",
       "      <td>2</td>\n",
       "      <td>76.190131</td>\n",
       "      <td>27.122421</td>\n",
       "      <td>123.332981</td>\n",
       "      <td>KC2</td>\n",
       "    </tr>\n",
       "    <tr>\n",
       "      <th>2</th>\n",
       "      <td>3</td>\n",
       "      <td>80.036284</td>\n",
       "      <td>26.314917</td>\n",
       "      <td>123.849781</td>\n",
       "      <td>KC2</td>\n",
       "    </tr>\n",
       "    <tr>\n",
       "      <th>3</th>\n",
       "      <td>5</td>\n",
       "      <td>81.360668</td>\n",
       "      <td>29.525742</td>\n",
       "      <td>123.969609</td>\n",
       "      <td>KC2</td>\n",
       "    </tr>\n",
       "    <tr>\n",
       "      <th>4</th>\n",
       "      <td>7</td>\n",
       "      <td>81.364296</td>\n",
       "      <td>29.937332</td>\n",
       "      <td>124.557069</td>\n",
       "      <td>KC2</td>\n",
       "    </tr>\n",
       "    <tr>\n",
       "      <th>5</th>\n",
       "      <td>9</td>\n",
       "      <td>81.941219</td>\n",
       "      <td>29.926480</td>\n",
       "      <td>125.288208</td>\n",
       "      <td>KC2</td>\n",
       "    </tr>\n",
       "    <tr>\n",
       "      <th>6</th>\n",
       "      <td>11</td>\n",
       "      <td>82.510885</td>\n",
       "      <td>29.827803</td>\n",
       "      <td>125.126495</td>\n",
       "      <td>KC2</td>\n",
       "    </tr>\n",
       "    <tr>\n",
       "      <th>7</th>\n",
       "      <td>13</td>\n",
       "      <td>82.510885</td>\n",
       "      <td>29.840199</td>\n",
       "      <td>125.281602</td>\n",
       "      <td>KC2</td>\n",
       "    </tr>\n",
       "    <tr>\n",
       "      <th>8</th>\n",
       "      <td>15</td>\n",
       "      <td>83.276488</td>\n",
       "      <td>29.245200</td>\n",
       "      <td>124.309816</td>\n",
       "      <td>KC2</td>\n",
       "    </tr>\n",
       "  </tbody>\n",
       "</table>\n",
       "</div>"
      ],
      "text/plain": [
       "    k       mean        std        time   df\n",
       "0   1  70.667634  19.064782  123.916963  KC2\n",
       "1   2  76.190131  27.122421  123.332981  KC2\n",
       "2   3  80.036284  26.314917  123.849781  KC2\n",
       "3   5  81.360668  29.525742  123.969609  KC2\n",
       "4   7  81.364296  29.937332  124.557069  KC2\n",
       "5   9  81.941219  29.926480  125.288208  KC2\n",
       "6  11  82.510885  29.827803  125.126495  KC2\n",
       "7  13  82.510885  29.840199  125.281602  KC2\n",
       "8  15  83.276488  29.245200  124.309816  KC2"
      ]
     },
     "execution_count": 11,
     "metadata": {},
     "output_type": "execute_result"
    }
   ],
   "source": [
    "kc2_df_weight = run_weight(X_kc2, Y_kc2, 'KC2')\n",
    "kc2_df_weight\n"
   ]
  },
  {
   "cell_type": "code",
   "execution_count": 12,
   "metadata": {},
   "outputs": [
    {
     "name": "stdout",
     "output_type": "stream",
     "text": [
      "Tempo total para df pc1: 27857.931182861328\n"
     ]
    },
    {
     "data": {
      "text/html": [
       "<div>\n",
       "<style scoped>\n",
       "    .dataframe tbody tr th:only-of-type {\n",
       "        vertical-align: middle;\n",
       "    }\n",
       "\n",
       "    .dataframe tbody tr th {\n",
       "        vertical-align: top;\n",
       "    }\n",
       "\n",
       "    .dataframe thead th {\n",
       "        text-align: right;\n",
       "    }\n",
       "</style>\n",
       "<table border=\"1\" class=\"dataframe\">\n",
       "  <thead>\n",
       "    <tr style=\"text-align: right;\">\n",
       "      <th></th>\n",
       "      <th>k</th>\n",
       "      <th>mean</th>\n",
       "      <th>std</th>\n",
       "      <th>time</th>\n",
       "      <th>df</th>\n",
       "    </tr>\n",
       "  </thead>\n",
       "  <tbody>\n",
       "    <tr>\n",
       "      <th>0</th>\n",
       "      <td>1</td>\n",
       "      <td>87.565930</td>\n",
       "      <td>19.198220</td>\n",
       "      <td>567.144455</td>\n",
       "      <td>pc1</td>\n",
       "    </tr>\n",
       "    <tr>\n",
       "      <th>1</th>\n",
       "      <td>2</td>\n",
       "      <td>83.330876</td>\n",
       "      <td>18.169756</td>\n",
       "      <td>564.602772</td>\n",
       "      <td>pc1</td>\n",
       "    </tr>\n",
       "    <tr>\n",
       "      <th>2</th>\n",
       "      <td>3</td>\n",
       "      <td>80.357084</td>\n",
       "      <td>17.755536</td>\n",
       "      <td>564.402553</td>\n",
       "      <td>pc1</td>\n",
       "    </tr>\n",
       "    <tr>\n",
       "      <th>3</th>\n",
       "      <td>5</td>\n",
       "      <td>74.679771</td>\n",
       "      <td>17.678081</td>\n",
       "      <td>560.845669</td>\n",
       "      <td>pc1</td>\n",
       "    </tr>\n",
       "    <tr>\n",
       "      <th>4</th>\n",
       "      <td>7</td>\n",
       "      <td>69.722359</td>\n",
       "      <td>17.723678</td>\n",
       "      <td>566.622364</td>\n",
       "      <td>pc1</td>\n",
       "    </tr>\n",
       "    <tr>\n",
       "      <th>5</th>\n",
       "      <td>9</td>\n",
       "      <td>65.665029</td>\n",
       "      <td>17.364219</td>\n",
       "      <td>555.473150</td>\n",
       "      <td>pc1</td>\n",
       "    </tr>\n",
       "    <tr>\n",
       "      <th>6</th>\n",
       "      <td>11</td>\n",
       "      <td>62.059787</td>\n",
       "      <td>17.149154</td>\n",
       "      <td>557.994298</td>\n",
       "      <td>pc1</td>\n",
       "    </tr>\n",
       "    <tr>\n",
       "      <th>7</th>\n",
       "      <td>13</td>\n",
       "      <td>59.447174</td>\n",
       "      <td>17.635201</td>\n",
       "      <td>562.600748</td>\n",
       "      <td>pc1</td>\n",
       "    </tr>\n",
       "    <tr>\n",
       "      <th>8</th>\n",
       "      <td>15</td>\n",
       "      <td>56.559378</td>\n",
       "      <td>17.434812</td>\n",
       "      <td>563.249611</td>\n",
       "      <td>pc1</td>\n",
       "    </tr>\n",
       "  </tbody>\n",
       "</table>\n",
       "</div>"
      ],
      "text/plain": [
       "    k       mean        std        time   df\n",
       "0   1  87.565930  19.198220  567.144455  pc1\n",
       "1   2  83.330876  18.169756  564.602772  pc1\n",
       "2   3  80.357084  17.755536  564.402553  pc1\n",
       "3   5  74.679771  17.678081  560.845669  pc1\n",
       "4   7  69.722359  17.723678  566.622364  pc1\n",
       "5   9  65.665029  17.364219  555.473150  pc1\n",
       "6  11  62.059787  17.149154  557.994298  pc1\n",
       "7  13  59.447174  17.635201  562.600748  pc1\n",
       "8  15  56.559378  17.434812  563.249611  pc1"
      ]
     },
     "execution_count": 12,
     "metadata": {},
     "output_type": "execute_result"
    }
   ],
   "source": [
    "pc1_df = run_weight(X_pc1, Y_pc1, 'pc1')\n",
    "pc1_df\n"
   ]
  },
  {
   "cell_type": "markdown",
   "metadata": {
    "id": "FhyzfbgpKKAQ"
   },
   "source": [
    "## KNN Adaptativo\n"
   ]
  },
  {
   "cell_type": "code",
   "execution_count": 16,
   "metadata": {
    "colab": {
     "base_uri": "https://localhost:8080/",
     "height": 129
    },
    "id": "4hhjssmdPMcI",
    "outputId": "b8d6f43b-2675-4bd6-8fbd-811ae59ad611"
   },
   "outputs": [],
   "source": [
    "import random\n",
    "class Adaptive_KNN:\n",
    "\n",
    "    def __init__(self, k):\n",
    "        self.k = k\n",
    "        \n",
    "    def adaptive_rule(self):\n",
    "        radius = []\n",
    "        for idx in range(len(self.y_train)):\n",
    "            temp = []\n",
    "            for jdx in range(len(self.y_train)):\n",
    "                if self.y_train.iloc[idx] != self.y_train.iloc[jdx]:\n",
    "                    dist = euclidian_distance(self.X_train.iloc[idx], self.X_train.iloc[jdx]) - 0.00000000001\n",
    "                    if dist >= 0:\n",
    "                        temp.append(dist)\n",
    "            radius.append(min(temp))\n",
    "        return radius\n",
    "    \n",
    "    def fit(self, X, y):\n",
    "        self.X_train = X\n",
    "        self.y_train = y\n",
    "        self.radius = self.adaptive_rule()\n",
    "\n",
    "\n",
    "    def predict(self, X):\n",
    "        predicted_labels = []\n",
    "        for _, row in X.iterrows():\n",
    "            predicted_labels.append(self.predict_func(row))\n",
    "\n",
    "        return np.array(predicted_labels)\n",
    "        \n",
    "    def predict_label(self, k_nearest_radius, pos=0, neg=0):\n",
    "        for k in range(len(k_nearest_radius)):\n",
    "            if k_nearest_radius[k] == 99999:\n",
    "                pass\n",
    "            elif self.y_train.iloc[k] == True:\n",
    "                ++pos\n",
    "            elif self.y_train.iloc[k] == False:\n",
    "                ++neg\n",
    "        if pos > neg:\n",
    "            return True\n",
    "        elif neg > pos:\n",
    "            return False\n",
    "        else: \n",
    "            return True if random.randint(1,100) % 2 == 0 else False\n",
    "        \n",
    "    def predict_func(self, x):\n",
    "        distances = []\n",
    "        for _, row in self.X_train.iterrows():\n",
    "            calc = euclidian_distance(x, row)\n",
    "            distances.append(calc)\n",
    "        \n",
    "        rad_distance = []\n",
    "        max_dist = 99999\n",
    "        for d in range(len(distances)):\n",
    "            aux = distances[d] / self.radius[d]\n",
    "            if(aux > 1):\n",
    "                rad_distance.append(max_dist)\n",
    "            else:\n",
    "                rad_distance.append(aux)\n",
    "\n",
    "        k_indices = np.argsort(rad_distance)[:self.k]        \n",
    "        k_nearest_radius = [self.y_train.iloc[i] for i in k_indices]\n",
    "\n",
    "        return self.predict_label(k_nearest_radius,0,0)"
   ]
  },
  {
   "cell_type": "code",
   "execution_count": 17,
   "metadata": {
    "id": "T7qPzzZUFULK"
   },
   "outputs": [],
   "source": [
    "def run_3(X, Y, df):\n",
    "    kf = KFold(n_splits=10)\n",
    "\n",
    "    results = []\n",
    "    totalTime = 0\n",
    "\n",
    "    for k in [1,2,3,5,7,9,11,13,15]:\n",
    "        begin = time.time()\n",
    "\n",
    "        accuracies = []\n",
    "        knn = Adaptive_KNN(k=k)\n",
    "\n",
    "        for train, test in kf.split(X):\n",
    "            knn.fit(X.iloc[train], Y.iloc[train])\n",
    "            predictions = knn.predict(X.iloc[test])\n",
    "\n",
    "            acc = (np.sum(predictions == Y.iloc[test]) / len(test)) * 100\n",
    "            accuracies.append(acc)\n",
    "        end = time.time()\n",
    "        totalTime += end-begin\n",
    "        temp= {'k': k,\n",
    "            'mean': np.mean(accuracies),\n",
    "            'std': np.std(accuracies),\n",
    "            'time':end - begin,\n",
    "            'df': df}  \n",
    "\n",
    "\n",
    "        results.append(temp)\n",
    "\n",
    "\n",
    "    print(\"Tempo total para df {}: {}\".format(df, totalTime))\n",
    "\n",
    "    return pd.DataFrame(results)\n",
    "  "
   ]
  },
  {
   "cell_type": "code",
   "execution_count": null,
   "metadata": {
    "id": "LRct3Az_Fb3X"
   },
   "outputs": [],
   "source": [
    "kc2_df_3  = run_3(X_kc2, Y_kc2, 'KC2')\n",
    "kc2_df_3"
   ]
  },
  {
   "cell_type": "code",
   "execution_count": null,
   "metadata": {},
   "outputs": [],
   "source": [
    "kc2_df_3  = run_3(X_kc2, Y_kc2, 'KC2')\n",
    "kc2_df_3"
   ]
  },
  {
   "cell_type": "markdown",
   "metadata": {
    "id": "V9-jFh4IjEfH"
   },
   "source": [
    "# Graficos\n"
   ]
  },
  {
   "cell_type": "code",
   "execution_count": null,
   "metadata": {
    "id": "L5bbBpIWjJdz"
   },
   "outputs": [],
   "source": [
    "import plotly.express as px\n",
    "import plotly.graph_objects as go\n",
    "from plotly.subplots import make_subplots\n"
   ]
  },
  {
   "cell_type": "code",
   "execution_count": null,
   "metadata": {},
   "outputs": [],
   "source": [
    "def format_df(df): \n",
    "    df['max'] = df['mean'] + df['std']\n",
    "    df['min'] = df['mean'] - df['std']\n",
    "    df_1.set_index('k', inplace=True)\n",
    "\n",
    "    return df"
   ]
  },
  {
   "cell_type": "code",
   "execution_count": null,
   "metadata": {},
   "outputs": [],
   "source": [
    "kc2_df_1 = format_df(kc2_df_1)\n",
    "pc1_df_1 = format_df(pc1_df_1)\n",
    "\n",
    "kc2_df_2 = format_df(kc2_df_2)\n",
    "pc1_df_2 = format_df(pc1_df_2)\n",
    "\n",
    "kc2_df_3 = format_df(kc2_df_3)\n",
    "pc1_df_3 = format_df(pc1_df_3)\n",
    "\n"
   ]
  },
  {
   "cell_type": "code",
   "execution_count": null,
   "metadata": {},
   "outputs": [],
   "source": [
    "def _print2(df_1, df_2, df_3)\n",
    "\n",
    "    fig = make_subplots(rows=2, cols=3,\n",
    "    column_widths=[0.3, 0.3, 0.3],row_heights=[0.5, 0.5],\n",
    "    specs=[[{\"type\": \"Scatter\"}, {\"type\": \"Scatter\"}, {\"type\": \"Scatter\"}],\n",
    "           [{\"type\": \"Scatter\"}, {\"type\": \"Scatter\"}, {\"type\": \"Scatter\"}]])\n",
    "\n",
    "    fig = go.Figure()\n",
    "    \n",
    "    fig.add_trace(go.Scatter(y = df_1['mean'], name='média - KNN', mode = 'lines+markers'), row = 1, col = 1)\n",
    "    fig.add_trace(go.Scatter(y = df_1['max'], name='std - KNN',mode = 'lines',line=dict(width=1, dash='dash')), row = 1, col = 1)\n",
    "    fig.add_trace(go.Scatter(y = df_1['min'], name='std - KNN', mode = 'lines',line=dict(width=1, dash='dash')), row = 1, col = 1)\n",
    "    \n",
    "    fig.add_trace(go.Scatter(y = df_2['mean'], name='média - com peso', mode = 'lines+markers'), row = 1, col = 1)\n",
    "    fig.add_trace(go.Scatter(y = df_2['max'], name='std - com peso',mode = 'lines',line=dict(width=1, dash='dash')), row = 1, col = 2)\n",
    "    fig.add_trace(go.Scatter(y = df_2['min'], name='std - com peso', mode = 'lines',line=dict(width=1, dash='dash')), row = 1, col = 2)\n",
    "    \n",
    "    fig.add_trace(go.Scatter(y = df_3['mean'], name='média - adaptativo', mode = 'lines+markers'), row = 1, col = 1)\n",
    "    fig.add_trace(go.Scatter(y = df_3['max'], name='std - adaptativo',mode = 'lines',line=dict(width=1, dash='dash')), row = 1, col = 3)\n",
    "    fig.add_trace(go.Scatter(y = df_3['min'], name='std - adaptativo', mode = 'lines',line=dict(width=1, dash='dash')), row = 1, col = 3)\n",
    "    \n",
    "    fig.add_trace(go.Scatter(y = df_3['time'], name='tempo - KNN', mode = 'lines+markers'), row = 2, col = 1)\n",
    "    fig.add_trace(go.Scatter(y = df_3['time'], name='tempo - com peso', mode = 'lines+markers'), row = 2, col = 2)\n",
    "    fig.add_trace(go.Scatter(y = df_3['time'], name='tempo - adaptativo', mode = 'lines+markers'), row = 2, col = 3)\n",
    "\n",
    "    return fig"
   ]
  },
  {
   "cell_type": "code",
   "execution_count": null,
   "metadata": {},
   "outputs": [],
   "source": [
    "kc2_fig = _print2(kc2_df_1, kc2_df_2, kc2_df_3)\n",
    "pc1_fig = _print2(pc1_df_3, pc1_df_2, pc1_df_3)"
   ]
  },
  {
   "cell_type": "code",
   "execution_count": null,
   "metadata": {},
   "outputs": [],
   "source": [
    "kc2_fig.show()"
   ]
  },
  {
   "cell_type": "code",
   "execution_count": null,
   "metadata": {},
   "outputs": [],
   "source": [
    "pc1_fig.show()"
   ]
  },
  {
   "cell_type": "code",
   "execution_count": null,
   "metadata": {},
   "outputs": [],
   "source": []
  }
 ],
 "metadata": {
  "colab": {
   "collapsed_sections": [],
   "name": "atv-1.ipynb",
   "provenance": [],
   "toc_visible": true
  },
  "kernelspec": {
   "display_name": "Python 3",
   "language": "python",
   "name": "python3"
  },
  "language_info": {
   "codemirror_mode": {
    "name": "ipython",
    "version": 3
   },
   "file_extension": ".py",
   "mimetype": "text/x-python",
   "name": "python",
   "nbconvert_exporter": "python",
   "pygments_lexer": "ipython3",
   "version": "3.6.9"
  }
 },
 "nbformat": 4,
 "nbformat_minor": 1
}
