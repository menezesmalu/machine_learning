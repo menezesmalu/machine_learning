{
 "cells": [
  {
   "cell_type": "code",
   "execution_count": 1,
   "metadata": {},
   "outputs": [],
   "source": [
    "import pandas as pd\n",
    "import numpy as np\n",
    "\n",
    "import urllib.request\n",
    "import io\n",
    "import time\n",
    "\n",
    "\n",
    "from scipy.io import arff\n",
    "from sklearn.model_selection import KFold\n",
    "from collections import Counter\n",
    "\n",
    "from sklearn.preprocessing import MinMaxScaler\n",
    "import re"
   ]
  },
  {
   "cell_type": "code",
   "execution_count": 2,
   "metadata": {},
   "outputs": [],
   "source": [
    "url = 'http://promise.site.uottawa.ca/SERepository/datasets/kc2.arff'\n",
    "ftpstream = urllib.request.urlopen(url)\n",
    "data, meta = arff.loadarff(io.StringIO(ftpstream.read().decode('utf-8')))\n",
    "kc2 = pd.DataFrame(data)\n",
    "kc2= kc2.sample(frac=1, random_state=20)\n",
    "\n",
    "\n",
    "Y = kc2['problems']\n",
    "X = kc2.drop(columns=['problems'])\n",
    "\n",
    "#Transforming in boolean class\n",
    "Y = Y.apply(str).str.replace(\"b|'\", '')\n",
    "Y = Y.apply(lambda x: 1 if x == 'yes' else 0)\n",
    "\n",
    "#Normalizing values\n",
    "scaler = MinMaxScaler(feature_range=(0, 1))\n",
    "x_scaled = scaler.fit_transform(X)\n",
    "X = pd.DataFrame(x_scaled)"
   ]
  },
  {
   "cell_type": "code",
   "execution_count": 16,
   "metadata": {},
   "outputs": [],
   "source": [
    "class Perceptron:\n",
    "    def __init__(self,learning_rate = 0.01, n_iters=100):\n",
    "        self.lr = learning_rate\n",
    "        self.n_iters = n_iters\n",
    "        self.weights = None\n",
    "        self.bias = None\n",
    "    \n",
    "    def activation_func(self, x):\n",
    "        return np.where(x>=0, 1, 0)\n",
    "    \n",
    "    def fit(self, X, y):\n",
    "        begin = time.time()\n",
    "        n_samples, n_features = X.shape\n",
    "        \n",
    "        self.weights = np.zeros(n_features)\n",
    "        self.bias = 0\n",
    "        \n",
    "        _y = np.array([1 if i > 0 else 0 for i in y])\n",
    "        \n",
    "        for i in range(self.n_iters):\n",
    "            for idx, x_i in enumerate(X):\n",
    "                \n",
    "                linear_output = np.dot(x_i, self.weights[0]) + self.bias\n",
    "                y_predict = self.activation_func(linear_output)\n",
    "                \n",
    "                #update rule\n",
    "                update = self.lr * (_y[idx] - y_predict)\n",
    "                \n",
    "                self.weights += update * x_i\n",
    "                self.bias += update\n",
    "        return time.time() - begin\n",
    "                \n",
    "    def predict(self, X):\n",
    "        linear_output = np.dot(X, self.weights) + self.bias\n",
    "        y_predict = self.activation_func(linear_output)\n",
    "        return y_predict"
   ]
  },
  {
   "cell_type": "code",
   "execution_count": 19,
   "metadata": {},
   "outputs": [
    {
     "name": "stdout",
     "output_type": "stream",
     "text": [
      "Perceptron classification accuracy:  0.6693040293040293\n"
     ]
    }
   ],
   "source": [
    "def accuracy(y_real, y_pred):\n",
    "    return np.sum(y_real == y_pred) / len(y_real)\n",
    "\n",
    "kf = KFold(n_splits=5)\n",
    "p = Perceptron(learning_rate=0.1, n_iters=1000)\n",
    "accuracies = []\n",
    "\n",
    "for train, test in kf.split(X):\n",
    "    p.fit(X.iloc[train], Y.iloc[train])\n",
    "    predictions = p.predict(X.iloc[test])\n",
    "    acc = \n",
    "    accuracies.append(accuracy(Y.iloc[test], predictions))\n",
    "\n",
    "print(\"Perceptron classification accuracy: \", np.mean(accuracies))\n",
    "\n"
   ]
  },
  {
   "cell_type": "code",
   "execution_count": null,
   "metadata": {},
   "outputs": [],
   "source": []
  }
 ],
 "metadata": {
  "kernelspec": {
   "display_name": "Python 3",
   "language": "python",
   "name": "python3"
  },
  "language_info": {
   "codemirror_mode": {
    "name": "ipython",
    "version": 3
   },
   "file_extension": ".py",
   "mimetype": "text/x-python",
   "name": "python",
   "nbconvert_exporter": "python",
   "pygments_lexer": "ipython3",
   "version": "3.6.9"
  }
 },
 "nbformat": 4,
 "nbformat_minor": 4
}
