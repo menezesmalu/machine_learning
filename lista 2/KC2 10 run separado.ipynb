{
 "cells": [
  {
   "cell_type": "markdown",
   "metadata": {
    "id": "eTpAG3UCd33h"
   },
   "source": [
    "https://docs.google.com/forms/d/e/1FAIpQLSdI6cWyyHCBkn2h0lUXvZM9iGNX3y1QMRbKT0iSVsrm8Qhx_w/viewform?hr_submission=ChcIrpDc8gMSDwi72JqF0wgSBgiGjdbHJxAB"
   ]
  },
  {
   "cell_type": "code",
   "execution_count": 1,
   "metadata": {
    "id": "jjcWEd14d33o"
   },
   "outputs": [],
   "source": [
    "import pandas as pd\n",
    "import numpy as np\n",
    "\n",
    "import urllib.request\n",
    "import io\n",
    "import time\n",
    "import copy\n",
    "\n",
    "\n",
    "from scipy.io import arff\n",
    "from sklearn.model_selection import KFold\n",
    "from collections import Counter\n",
    "\n",
    "from sklearn.preprocessing import MinMaxScaler\n",
    "import re\n",
    "import random\n",
    "\n",
    "import warnings\n",
    "warnings.filterwarnings(\"ignore\", category=RuntimeWarning) "
   ]
  },
  {
   "cell_type": "markdown",
   "metadata": {
    "id": "n8BBhXWvd33p"
   },
   "source": [
    "# Preparação de dados\n",
    "\n",
    "* extração do dataframe"
   ]
  },
  {
   "cell_type": "code",
   "execution_count": 2,
   "metadata": {
    "id": "j9G9ZvGHE2lq"
   },
   "outputs": [],
   "source": [
    "url = 'http://promise.site.uottawa.ca/SERepository/datasets/kc2.arff'\n",
    "ftpstream = urllib.request.urlopen(url)\n",
    "data, meta = arff.loadarff(io.StringIO(ftpstream.read().decode('utf-8')))\n",
    "kc2 = pd.DataFrame(data)\n",
    "kc2 = kc2.sample(frac=1, random_state=20)\n",
    "kc2.reset_index(drop=True, inplace=True)"
   ]
  },
  {
   "cell_type": "markdown",
   "metadata": {
    "id": "cLU1pzw_d33r"
   },
   "source": [
    "# Algoritmos"
   ]
  },
  {
   "cell_type": "code",
   "execution_count": 3,
   "metadata": {
    "id": "2gnGwQ7Hd33r"
   },
   "outputs": [],
   "source": [
    "def  euclidian_distance(x1, x2):\n",
    "    arr = []\n",
    "    for i in range(len(x1)-1):\n",
    "        arr.append((x1[i] - x2[i])** 2)\n",
    "    return np.sqrt(np.sum(arr))\n"
   ]
  },
  {
   "cell_type": "code",
   "execution_count": 4,
   "metadata": {},
   "outputs": [],
   "source": [
    "class KNN:\n",
    "\n",
    "    def __init__(self, k):\n",
    "        self.k = k\n",
    "\n",
    "    def fit(self, X, y):\n",
    "        self.X_train = X\n",
    "        self.y_train = y\n",
    "\n",
    "\n",
    "    def predict(self, X):\n",
    "        predicted_labels = []\n",
    "        for _, row in X.iterrows():\n",
    "            predicted_labels.append(self.predict_func(row))\n",
    "\n",
    "        return np.array(predicted_labels)\n",
    "        \n",
    "    def predict_func(self, x):\n",
    "        distances = []\n",
    "        for _, row in self.X_train.iterrows():\n",
    "            distances.append(euclidian_distance(x, row))\n",
    "          \n",
    "        k_indices = np.argsort(distances)[:self.k]        \n",
    "        k_nearest_labels = [self.y_train.iloc[i] for i in k_indices]\n",
    "\n",
    "        unique, counts = np.unique(k_nearest_labels, return_counts=True)\n",
    "        predicted = unique[counts.argmax()]\n",
    "\n",
    "        return predicted"
   ]
  },
  {
   "cell_type": "code",
   "execution_count": 15,
   "metadata": {},
   "outputs": [],
   "source": [
    "def attr_class(df):\n",
    "    Y = df[\"problems\"]\n",
    "    X = df.drop(columns=[\"problems\"]) \n",
    "    \n",
    "    scaler = MinMaxScaler(feature_range=(0, 1))\n",
    "    x_scaled = scaler.fit_transform(X)\n",
    "    X = pd.DataFrame(x_scaled)\n",
    "    \n",
    "    Y = Y.apply(str).str.replace(\"b|'\", '')\n",
    "\n",
    "    \n",
    "    return X, Y"
   ]
  },
  {
   "cell_type": "code",
   "execution_count": 6,
   "metadata": {},
   "outputs": [],
   "source": [
    "def _attr_class(df):\n",
    "    \n",
    "    x = []\n",
    "    y = []\n",
    "    for row in df:\n",
    "        x.append(row[:-1])\n",
    "        y.append(row[-1])\n",
    "\n",
    "    \n",
    "    return x,y"
   ]
  },
  {
   "cell_type": "markdown",
   "metadata": {},
   "source": [
    "### LVQ 1"
   ]
  },
  {
   "cell_type": "code",
   "execution_count": 7,
   "metadata": {},
   "outputs": [],
   "source": [
    "from sklearn.neighbors import KNeighborsClassifier\n"
   ]
  },
  {
   "cell_type": "code",
   "execution_count": 8,
   "metadata": {
    "scrolled": false
   },
   "outputs": [],
   "source": [
    "class LVQ1:   \n",
    "    \n",
    "    def __init__(self, n_prototypes):\n",
    "        self.n_prototypes  = n_prototypes\n",
    "        self._epochs        = 10\n",
    "        self._lrate        = 0.25\n",
    "\n",
    "    \n",
    "    def random_prototype(self, train):\n",
    "        n_records  = train.shape[0]\n",
    "        n_features = train.shape[1]\n",
    "        prototypes  = []\n",
    "        records    = []\n",
    "        random.seed(10)\n",
    "        for i in range(self.n_prototypes):\n",
    "            records.append(random.randint(0, n_records-1))\n",
    "        \n",
    "        for r in records:\n",
    "            prototype = [train.iloc[r][i] for i in range(n_features)]\n",
    "            prototypes.append(prototype)\n",
    "        \n",
    "        return prototypes, records\n",
    "    \n",
    "\n",
    "    def trainPrototypes(self,train):\n",
    "        prototypes = []\n",
    "        records = []\n",
    "        aux = train\n",
    "        for i in range(self.n_prototypes):\n",
    "            prototypes, records = self.random_prototype(train)\n",
    "        for i in records:\n",
    "            aux = aux.drop(aux.loc[aux.index==i].index)\n",
    "        aux = aux.reset_index(drop=True)\n",
    "        \n",
    "        x_train, y_train = attr_class(aux)\n",
    "        x_proto, y_proto = _attr_class(prototypes)\n",
    "\n",
    "        knn = KNeighborsClassifier(n_neighbors=1)\n",
    "        knn.fit(x_train, y_train)\n",
    "        for epoch in range(self._epochs):            \n",
    "            rate  = self._lrate * (1.0 - (epoch / float(self._epochs)))\n",
    "            predicted_classes = knn.predict(x_proto) \n",
    "            real_instances = knn.kneighbors(X=x_proto, n_neighbors=1, return_distance=False)\n",
    "            for idx in range(len(x_proto)):\n",
    "                prototype = x_proto[idx] # prototipo (ta sendo alterado o valor)\n",
    "                proto_class = y_proto[idx] #classe do prototipo \n",
    "                \n",
    "                predicted_class = predicted_classes[idx] #classe prevista pra esse prototipo \n",
    "                real_instance_index = real_instances[idx][0] #indice instancia real daquele prototipo \n",
    "                real_instance = x_train.iloc[real_instance_index] # instancia real\n",
    "                \n",
    "                for p in range(len(prototype)): #passa por cada coluna do prototipo\n",
    "                    proto_val = prototype[p]\n",
    "                    real_val  = real_instance[p]\n",
    "                    error = rate * (real_val - proto_val)\n",
    "                    if proto_class == predicted_class:\n",
    "                        prototype[p] += error\n",
    "                    else:\n",
    "                        prototype[p] -= error\n",
    "\n",
    "       \n",
    "        return pd.DataFrame(prototypes, columns = train.columns)\n",
    "\n",
    "# lvq1 = LVQ1(10)\n",
    "# df  = lvq1.trainPrototypes(kc2)\n",
    "# df "
   ]
  },
  {
   "cell_type": "markdown",
   "metadata": {},
   "source": [
    "### LVQ 2.1"
   ]
  },
  {
   "cell_type": "code",
   "execution_count": 9,
   "metadata": {},
   "outputs": [],
   "source": [
    "class LVQ2_1:   \n",
    "    \n",
    "    def __init__(self, n_prototypes, window):\n",
    "        self.n_prototypes  = n_prototypes\n",
    "        self._epochs        = 10\n",
    "        self._lrate        = 0.25\n",
    "        self._window        = window\n",
    "\n",
    "    \n",
    "    def inside(self):\n",
    "        return (1.0 - self._window) / (1.0 + self._window)\n",
    "    \n",
    "    def window(self, d1, d2):\n",
    "        a  = d1/d2\n",
    "        b  = d2/d1\n",
    "        minimum = min(a,b)\n",
    "        return minimum > self.inside()\n",
    "    \n",
    "    def updatePrototypes(self, prototype, real, same_class, rate):\n",
    "        for idx in range(21):\n",
    "            proto_val = prototype[idx]\n",
    "            real_val  = real[idx]\n",
    "            error = rate * (real_val - proto_val)\n",
    "            if same_class:\n",
    "                prototype[idx] += error\n",
    "            else:\n",
    "                prototype[idx] -= error\n",
    "        return prototype\n",
    "    \n",
    "    def trainPrototypes(self,train, df_prototypes):\n",
    "        x_train, y_train = attr_class(train)\n",
    "        x_proto, y_proto = attr_class(df_prototypes)\n",
    "        knn = KNeighborsClassifier(n_neighbors=2)\n",
    "        knn.fit(x_proto, y_proto)\n",
    "        for epoch in range(self._epochs):\n",
    "            rate  = self._lrate * (1.0 - (epoch / float(self._epochs)))\n",
    "            x_neighbors = knn.kneighbors(X=x_train, n_neighbors=2, return_distance=False)\n",
    "            for idx, _ in x_train.iterrows():\n",
    "                x_instance = x_train.iloc[idx]\n",
    "                x_class = y_train.iloc[idx]\n",
    "                \n",
    "                #mais próximo\n",
    "                n1_idx   = x_neighbors[idx][0]\n",
    "                n1       = x_proto.iloc[n1_idx]\n",
    "                n1       = n1[:21] ##tá adicionando o indice como uma coluna na iteração seguinte\n",
    "                n1_class = y_proto[n1_idx]\n",
    "                n1_dist  = euclidian_distance(n1, x_instance) \n",
    "                \n",
    "                #segundo mais próximo\n",
    "                n2_idx   = x_neighbors[idx][0]\n",
    "                n2       = x_proto.iloc[n2_idx]\n",
    "                n2       = n2[:21]\n",
    "                n2_class = y_proto[n2_idx]\n",
    "                n2_dist  = euclidian_distance(n2, x_instance)\n",
    "                \n",
    "                insideWindow = self.window(n1_dist, n2_dist)\n",
    "                if insideWindow or n1_class != n2_class:\n",
    "                    x_proto.iloc[n1_idx] = self.updatePrototypes(n1, x_instance, n1_class == x_class, rate)\n",
    "                    x_proto.iloc[n2_idx] = self.updatePrototypes(n2, x_instance, n2_class == x_class, rate)\n",
    "        prototypes = pd.concat([x_proto, y_proto], axis=1)\n",
    "        prototypes.columns = kc2.columns\n",
    "        return prototypes \n",
    "    \n",
    "# lvq2 = LVQ2_1(100, 0.25)\n",
    "# df2  = lvq2.trainPrototypes(kc2, df)\n",
    "# df2"
   ]
  },
  {
   "cell_type": "markdown",
   "metadata": {},
   "source": [
    "### LVQ 3"
   ]
  },
  {
   "cell_type": "code",
   "execution_count": 10,
   "metadata": {},
   "outputs": [],
   "source": [
    "class LVQ3:   \n",
    "    \n",
    "    def __init__(self, n_prototypes, window):\n",
    "        self.n_prototypes  = n_prototypes\n",
    "        self._epochs       = 10\n",
    "        self._lrate        = 0.25\n",
    "        self._window       = window\n",
    "        self._epsilon      = 0.75\n",
    "        \n",
    "    def getNeighborPrototype(self, prototypes, row):\n",
    "        distances  = []\n",
    "        final_dist = []\n",
    "        for _,proto in prototypes.iterrows():\n",
    "            dist = euclidian_distance(proto, row)\n",
    "            distances.append((proto, dist))\n",
    "        distances.sort(key=lambda tup: tup[1])\n",
    "        final_dist.append(distances[1])\n",
    "        final_dist.append(distances[2])\n",
    "        return final_dist\n",
    "    \n",
    "    def inside(self):\n",
    "        return (1.0 - self._window) / (1.0 + self._window)\n",
    "    \n",
    "    def window(self, d1, d2):\n",
    "        a  = d1/d2\n",
    "        b  = d2/d1\n",
    "        minimum = min(a,b)\n",
    "        return minimum > self.inside()\n",
    "    \n",
    "    def updatePrototypes(self, prototype, real, same_class, rate):\n",
    "        for idx in range(21):\n",
    "            proto_val = prototype[idx]\n",
    "            real_val  = real[idx]\n",
    "            error = rate * (real_val - proto_val)\n",
    "            if same_class:\n",
    "                prototype[idx] += error\n",
    "            else:\n",
    "                prototype[idx] -= error\n",
    "        return prototype\n",
    "    \n",
    "    def trainPrototypes(self,train, df_prototypes):\n",
    "        x_train, y_train = attr_class(train)\n",
    "        x_proto, y_proto = attr_class(df_prototypes)\n",
    "        knn = KNeighborsClassifier(n_neighbors=2)\n",
    "        knn.fit(x_proto, y_proto)        \n",
    "        for epoch in range(self._epochs):\n",
    "            rate = self._lrate * (1.0 - (epoch / float(self._epochs)))\n",
    "            x_neighbors = knn.kneighbors(X=x_train, n_neighbors=2, return_distance=False)\n",
    "            for idx, _ in x_train.iterrows():\n",
    "                x_instance = x_train.iloc[idx]\n",
    "                x_class = y_train.iloc[idx]\n",
    "\n",
    "                #mais próximo\n",
    "                n1_idx   = x_neighbors[idx][0]\n",
    "                n1       = x_proto.iloc[n1_idx]\n",
    "                n1       = n1[:21] ##tá adicionando o indice como uma coluna na iteração seguinte\n",
    "                n1_class = y_proto[n1_idx]\n",
    "                n1_dist  = euclidian_distance(n1, x_instance) \n",
    "\n",
    "                #segundo mais próximo\n",
    "                n2_idx   = x_neighbors[idx][0]\n",
    "                n2       = x_proto.iloc[n2_idx]\n",
    "                n2       = n2[:21]\n",
    "                n2_class = y_proto[n2_idx]\n",
    "                n2_dist  = euclidian_distance(n2, x_instance)\n",
    "\n",
    "                insideWindow = self.window(n1_dist, n2_dist)\n",
    "                if insideWindow:\n",
    "                    if n1_class != n2_class:\n",
    "                        x_proto.iloc[n1_idx] = self.updatePrototypes(n1, x_instance, n1_class == x_class, rate)\n",
    "                        x_proto.iloc[n2_idx] = self.updatePrototypes(n2, x_instance, n2_class == x_class, rate)\n",
    "                    else:\n",
    "                        rate = rate * self._epsilon\n",
    "                        x_proto.iloc[n1_idx] = self.updatePrototypes(n1, x_instance, True, rate)\n",
    "                        x_proto.iloc[n2_idx] = self.updatePrototypes(n2, x_instance, True, rate)\n",
    "\n",
    "        prototypes = pd.concat([x_proto, y_proto], axis=1)\n",
    "        prototypes.columns = kc2.columns\n",
    "        return prototypes\n",
    "    \n",
    "# lvq3 = LVQ3(10, 0.3)\n",
    "# res  = lvq3.trainPrototypes(kc1, df)\n",
    "# df3"
   ]
  },
  {
   "cell_type": "code",
   "execution_count": 11,
   "metadata": {},
   "outputs": [],
   "source": [
    "# lvq3 = LVQ3(10, 0.3, 0.5)\n",
    "# res  = lvq3.trainPrototypes(df)\n",
    "# df3 = pd.DataFrame(res, columns = kc2.columns)\n",
    "# df3"
   ]
  },
  {
   "cell_type": "markdown",
   "metadata": {
    "id": "TaQe1qPw7Nea"
   },
   "source": [
    "## KNN \n"
   ]
  },
  {
   "cell_type": "code",
   "execution_count": 16,
   "metadata": {},
   "outputs": [],
   "source": [
    "def run(df, title):\n",
    "    kf = KFold(n_splits=5)\n",
    "    accuracies_1 = []\n",
    "    accuracies_3   = []\n",
    "    index = 0\n",
    "    for train, test in kf.split(df):\n",
    "        #separação conj de teste atributos e classe\n",
    "        attr, df_class = attr_class(df)\n",
    "\n",
    "        # 1-NN\n",
    "        knn  = KNN(1)\n",
    "        knn.fit(attr, df_class)\n",
    "        predictions_simples = knn.predict(attr.iloc[test])\n",
    "        acc_simples = (np.sum(predictions_simples == df_class.iloc[test]) / len(test)) * 100\n",
    "        accuracies_1.append(acc_simples)\n",
    "\n",
    "        # 3-NN\n",
    "        knn  = KNN(3)\n",
    "        knn.fit(attr, df_class)\n",
    "        predictions_simples = knn.predict(attr.iloc[test])\n",
    "        acc_simples = (np.sum(predictions_simples == df_class.iloc[test]) / len(test)) * 100\n",
    "        accuracies_3.append(acc_simples)\n",
    "\n",
    "    return accuracies_1, accuracies_3\n",
    "\n",
    "accuracies_1, accuracies_3 = run(kc2, 'KC2')\n"
   ]
  },
  {
   "cell_type": "code",
   "execution_count": 21,
   "metadata": {
    "scrolled": true
   },
   "outputs": [
    {
     "name": "stdout",
     "output_type": "stream",
     "text": [
      "(1, 10): simples 98.46520146520147 lvq1 75.65201465201467 lvq2 65.84798534798536 lvq3 75.84432234432236\n",
      "(3, 10): simples 88.13003663003664 lvq1 77.1923076923077 lvq2 79.88461538461539 lvq3 79.6923076923077\n",
      "(1, 50): simples 98.46520146520147 lvq1 78.52564102564102 lvq2 44.8003663003663 lvq3 77.38095238095238\n",
      "(3, 50): simples 88.13003663003664 lvq1 80.83699633699634 lvq2 79.88461538461539 lvq3 81.22161172161171\n",
      "(1, 100): simples 98.46520146520147 lvq1 83.90293040293041 lvq2 70.84432234432234 lvq3 81.21245421245422\n",
      "(3, 100): simples 88.13003663003664 lvq1 83.71978021978022 lvq2 62.77106227106227 lvq3 83.14652014652015\n",
      "(1, 200): simples 98.46520146520147 lvq1 77.58424908424908 lvq2 41.92673992673993 lvq3 81.59706959706959\n",
      "(3, 200): simples 88.13003663003664 lvq1 84.4835164835165 lvq2 55.77289377289378 lvq3 84.67216117216117\n"
     ]
    },
    {
     "data": {
      "text/html": [
       "<div>\n",
       "<style scoped>\n",
       "    .dataframe tbody tr th:only-of-type {\n",
       "        vertical-align: middle;\n",
       "    }\n",
       "\n",
       "    .dataframe tbody tr th {\n",
       "        vertical-align: top;\n",
       "    }\n",
       "\n",
       "    .dataframe thead th {\n",
       "        text-align: right;\n",
       "    }\n",
       "</style>\n",
       "<table border=\"1\" class=\"dataframe\">\n",
       "  <thead>\n",
       "    <tr style=\"text-align: right;\">\n",
       "      <th></th>\n",
       "      <th>dataframe</th>\n",
       "      <th>(k, prototypes)</th>\n",
       "      <th>acc_simples</th>\n",
       "      <th>std_simples</th>\n",
       "      <th>acc_LVQ1</th>\n",
       "      <th>std_LVQ1</th>\n",
       "      <th>acc_LVQ2.1</th>\n",
       "      <th>std_LVQ2.1</th>\n",
       "      <th>acc_LVQ3</th>\n",
       "      <th>std_LVQ3</th>\n",
       "    </tr>\n",
       "  </thead>\n",
       "  <tbody>\n",
       "    <tr>\n",
       "      <th>0</th>\n",
       "      <td>KC2</td>\n",
       "      <td>(1, 10)</td>\n",
       "      <td>98.465201</td>\n",
       "      <td>0.771986</td>\n",
       "      <td>75.652015</td>\n",
       "      <td>7.704163</td>\n",
       "      <td>65.847985</td>\n",
       "      <td>25.311351</td>\n",
       "      <td>75.844322</td>\n",
       "      <td>7.328297</td>\n",
       "    </tr>\n",
       "    <tr>\n",
       "      <th>1</th>\n",
       "      <td>KC2</td>\n",
       "      <td>(3, 10)</td>\n",
       "      <td>88.130037</td>\n",
       "      <td>2.721456</td>\n",
       "      <td>77.192308</td>\n",
       "      <td>4.320216</td>\n",
       "      <td>79.884615</td>\n",
       "      <td>3.101169</td>\n",
       "      <td>79.692308</td>\n",
       "      <td>2.464854</td>\n",
       "    </tr>\n",
       "    <tr>\n",
       "      <th>2</th>\n",
       "      <td>KC2</td>\n",
       "      <td>(1, 50)</td>\n",
       "      <td>98.465201</td>\n",
       "      <td>0.771986</td>\n",
       "      <td>78.525641</td>\n",
       "      <td>10.467003</td>\n",
       "      <td>44.800366</td>\n",
       "      <td>29.610129</td>\n",
       "      <td>77.380952</td>\n",
       "      <td>11.554064</td>\n",
       "    </tr>\n",
       "    <tr>\n",
       "      <th>3</th>\n",
       "      <td>KC2</td>\n",
       "      <td>(3, 50)</td>\n",
       "      <td>88.130037</td>\n",
       "      <td>2.721456</td>\n",
       "      <td>80.836996</td>\n",
       "      <td>6.728811</td>\n",
       "      <td>79.884615</td>\n",
       "      <td>3.271954</td>\n",
       "      <td>81.221612</td>\n",
       "      <td>6.632904</td>\n",
       "    </tr>\n",
       "    <tr>\n",
       "      <th>4</th>\n",
       "      <td>KC2</td>\n",
       "      <td>(1, 100)</td>\n",
       "      <td>98.465201</td>\n",
       "      <td>0.771986</td>\n",
       "      <td>83.902930</td>\n",
       "      <td>2.705472</td>\n",
       "      <td>70.844322</td>\n",
       "      <td>21.598867</td>\n",
       "      <td>81.212454</td>\n",
       "      <td>7.365939</td>\n",
       "    </tr>\n",
       "    <tr>\n",
       "      <th>5</th>\n",
       "      <td>KC2</td>\n",
       "      <td>(3, 100)</td>\n",
       "      <td>88.130037</td>\n",
       "      <td>2.721456</td>\n",
       "      <td>83.719780</td>\n",
       "      <td>2.895797</td>\n",
       "      <td>62.771062</td>\n",
       "      <td>25.275883</td>\n",
       "      <td>83.146520</td>\n",
       "      <td>2.727312</td>\n",
       "    </tr>\n",
       "    <tr>\n",
       "      <th>6</th>\n",
       "      <td>KC2</td>\n",
       "      <td>(1, 200)</td>\n",
       "      <td>98.465201</td>\n",
       "      <td>0.771986</td>\n",
       "      <td>77.584249</td>\n",
       "      <td>8.650215</td>\n",
       "      <td>41.926740</td>\n",
       "      <td>28.744571</td>\n",
       "      <td>81.597070</td>\n",
       "      <td>7.281588</td>\n",
       "    </tr>\n",
       "    <tr>\n",
       "      <th>7</th>\n",
       "      <td>KC2</td>\n",
       "      <td>(3, 200)</td>\n",
       "      <td>88.130037</td>\n",
       "      <td>2.721456</td>\n",
       "      <td>84.483516</td>\n",
       "      <td>3.396943</td>\n",
       "      <td>55.772894</td>\n",
       "      <td>29.293371</td>\n",
       "      <td>84.672161</td>\n",
       "      <td>2.923965</td>\n",
       "    </tr>\n",
       "  </tbody>\n",
       "</table>\n",
       "</div>"
      ],
      "text/plain": [
       "  dataframe (k, prototypes)  acc_simples  std_simples   acc_LVQ1   std_LVQ1  \\\n",
       "0       KC2         (1, 10)    98.465201     0.771986  75.652015   7.704163   \n",
       "1       KC2         (3, 10)    88.130037     2.721456  77.192308   4.320216   \n",
       "2       KC2         (1, 50)    98.465201     0.771986  78.525641  10.467003   \n",
       "3       KC2         (3, 50)    88.130037     2.721456  80.836996   6.728811   \n",
       "4       KC2        (1, 100)    98.465201     0.771986  83.902930   2.705472   \n",
       "5       KC2        (3, 100)    88.130037     2.721456  83.719780   2.895797   \n",
       "6       KC2        (1, 200)    98.465201     0.771986  77.584249   8.650215   \n",
       "7       KC2        (3, 200)    88.130037     2.721456  84.483516   3.396943   \n",
       "\n",
       "   acc_LVQ2.1  std_LVQ2.1   acc_LVQ3   std_LVQ3  \n",
       "0   65.847985   25.311351  75.844322   7.328297  \n",
       "1   79.884615    3.101169  79.692308   2.464854  \n",
       "2   44.800366   29.610129  77.380952  11.554064  \n",
       "3   79.884615    3.271954  81.221612   6.632904  \n",
       "4   70.844322   21.598867  81.212454   7.365939  \n",
       "5   62.771062   25.275883  83.146520   2.727312  \n",
       "6   41.926740   28.744571  81.597070   7.281588  \n",
       "7   55.772894   29.293371  84.672161   2.923965  "
      ]
     },
     "execution_count": 21,
     "metadata": {},
     "output_type": "execute_result"
    }
   ],
   "source": [
    "def run(df, title, accuracies_1, accuracies_3):\n",
    "    kf = KFold(n_splits=5)\n",
    "    results = []\n",
    "    n_proto = [10, 50, 100, 200]\n",
    "    for n in n_proto:\n",
    "        for k in [1,3]:\n",
    "            accuracies_simples = []\n",
    "            accuracies_lvq1   = []\n",
    "            accuracies_lvq2   = []\n",
    "            accuracies_lvq3   = []\n",
    "            index = 0\n",
    "            for train, test in kf.split(df):\n",
    "                #separação conj de teste atributos e classe\n",
    "                attr, df_class = attr_class(df)\n",
    "\n",
    "                # KNN com conjunto normal\n",
    "                accuracies_simples = accuracies_1 if k == 1 else accuracies_3\n",
    "                \n",
    "                #definição do dataset de LVQ1\n",
    "                lvq1 = LVQ1(n)\n",
    "                aux = df.iloc[train]\n",
    "                aux.reset_index(drop=True, inplace=True)\n",
    "                res  = lvq1.trainPrototypes(aux)\n",
    "                lvq1_df  = pd.DataFrame(res, columns = df.columns)\n",
    "                \n",
    "                #separação do treinamento LVQ1 atributos e classe\n",
    "                X, Y = attr_class(lvq1_df)\n",
    "                \n",
    "                #KNN com conjunto do LVQ1\n",
    "                knn  = KNN(k)\n",
    "                knn.fit(X, Y)\n",
    "                predictions_lvq1 = knn.predict(attr.iloc[test])\n",
    "                acc_lvq1 = (np.sum(predictions_lvq1 == df_class.iloc[test]) / len(test)) * 100\n",
    "                accuracies_lvq1.append(acc_lvq1)\n",
    "                \n",
    "                #definição do dataset de LVQ2.1\n",
    "                lvq2 = LVQ2_1(n, 0.5)\n",
    "                res  = lvq2.trainPrototypes(aux,lvq1_df)\n",
    "                lvq2_df  = pd.DataFrame(res, columns = df.columns)\n",
    "                \n",
    "                #separação do treinamento LVQ2.1 atributos e classe\n",
    "                X, Y = attr_class(lvq2_df)\n",
    "                \n",
    "                #KNN com conjunto do LVQ2.1\n",
    "                knn  = KNN(k)\n",
    "                knn.fit(X, Y)\n",
    "                predictions_lvq2 = knn.predict(attr.iloc[test])\n",
    "                acc_lvq2 = (np.sum(predictions_lvq2 == df_class.iloc[test]) / len(test)) * 100\n",
    "                accuracies_lvq2.append(acc_lvq2)\n",
    "                \n",
    "                #definição do dataset de LVQ3\n",
    "                lvq3 = LVQ3(n, 0.5)\n",
    "                res  = lvq3.trainPrototypes(aux,lvq1_df)\n",
    "                lvq3_df  = pd.DataFrame(res, columns = df.columns)\n",
    "                \n",
    "                #separação do treinamento LVQ3 atributos e classe\n",
    "                X, Y = attr_class(lvq3_df)\n",
    "                \n",
    "                #KNN com conjunto do LVQ3\n",
    "                knn  = KNN(k)\n",
    "                knn.fit(X, Y)\n",
    "                predictions_lvq3 = knn.predict(attr.iloc[test])\n",
    "                acc_lvq3 = (np.sum(predictions_lvq3 == df_class.iloc[test]) / len(test)) * 100\n",
    "                accuracies_lvq3.append(acc_lvq3)\n",
    "            \n",
    "            print(\"({}, {}): simples {} lvq1 {} lvq2 {} lvq3 {}\".format(k, n, np.mean(accuracies_simples),np.mean(accuracies_lvq1),np.mean(accuracies_lvq2), np.mean(accuracies_lvq3)))\n",
    "            temp = {\n",
    "                'dataframe': title,\n",
    "                '(k, prototypes)':(k, n),\n",
    "                'acc_simples': np.mean(accuracies_simples),\n",
    "                'std_simples': np.std(accuracies_simples),\n",
    "                'acc_LVQ1'   : np.mean(accuracies_lvq1),\n",
    "                'std_LVQ1'   : np.std(accuracies_lvq1),\n",
    "                'acc_LVQ2.1' : np.mean(accuracies_lvq2),\n",
    "                'std_LVQ2.1' : np.std(accuracies_lvq2),\n",
    "                'acc_LVQ3'   : np.mean(accuracies_lvq3),\n",
    "                'std_LVQ3'   : np.std(accuracies_lvq3),\n",
    "            }\n",
    "            results.append(temp)\n",
    "    df = pd.DataFrame(results)\n",
    "    return df\n",
    "\n",
    "df = run(kc2, 'KC2', accuracies_1, accuracies_3)\n",
    "df"
   ]
  },
  {
   "cell_type": "markdown",
   "metadata": {},
   "source": [
    "menos protótipos > resultado mto ruim > desbalanço do conjunto"
   ]
  },
  {
   "cell_type": "markdown",
   "metadata": {},
   "source": [
    "## Plot\n",
    "\n",
    "curva roc?"
   ]
  },
  {
   "cell_type": "code",
   "execution_count": 22,
   "metadata": {},
   "outputs": [],
   "source": [
    "import plotly.express as px\n",
    "import plotly.graph_objects as go\n",
    "from plotly.subplots import make_subplots\n"
   ]
  },
  {
   "cell_type": "code",
   "execution_count": 23,
   "metadata": {},
   "outputs": [],
   "source": [
    "def _printComparative(df):\n",
    "    \n",
    "\n",
    "    fig = make_subplots(rows=1, cols=1,\n",
    "    specs=[[{\"type\": \"Scatter\"}]],\n",
    "    subplot_titles=(\"Acurácia\"))\n",
    "\n",
    "    \n",
    "    fig.add_trace(go.Scatter(x=df.index, y = df['acc_simples'], name='Simples', mode = 'lines+markers'), col = 1, row = 1) \n",
    "    fig.add_trace(go.Scatter(x=df.index, y = df['acc_LVQ1'], name='LVQ1', mode = 'lines+markers'), col = 1, row = 1)\n",
    "    fig.add_trace(go.Scatter(x=df.index, y = df['acc_LVQ2.1'], name='LVQ2.1', mode = 'lines+markers'), col = 1, row = 1)\n",
    "    fig.add_trace(go.Scatter(x=df.index, y = df['acc_LVQ3'], name='LVQ3', mode = 'lines+markers'), col = 1, row = 1)\n",
    "    \n",
    "    fig.update_layout(height=1000, width=1000)\n",
    "\n",
    "    return fig\n"
   ]
  },
  {
   "cell_type": "code",
   "execution_count": 24,
   "metadata": {},
   "outputs": [
    {
     "data": {
      "application/vnd.plotly.v1+json": {
       "config": {
        "plotlyServerURL": "https://plot.ly"
       },
       "data": [
        {
         "mode": "lines+markers",
         "name": "Simples",
         "type": "scatter",
         "x": [
          0,
          1,
          2,
          3,
          4,
          5,
          6,
          7
         ],
         "xaxis": "x",
         "y": [
          98.46520146520147,
          88.13003663003664,
          98.46520146520147,
          88.13003663003664,
          98.46520146520147,
          88.13003663003664,
          98.46520146520147,
          88.13003663003664
         ],
         "yaxis": "y"
        },
        {
         "mode": "lines+markers",
         "name": "LVQ1",
         "type": "scatter",
         "x": [
          0,
          1,
          2,
          3,
          4,
          5,
          6,
          7
         ],
         "xaxis": "x",
         "y": [
          75.65201465201467,
          77.1923076923077,
          78.52564102564102,
          80.83699633699634,
          83.90293040293041,
          83.71978021978022,
          77.58424908424908,
          84.4835164835165
         ],
         "yaxis": "y"
        },
        {
         "mode": "lines+markers",
         "name": "LVQ2.1",
         "type": "scatter",
         "x": [
          0,
          1,
          2,
          3,
          4,
          5,
          6,
          7
         ],
         "xaxis": "x",
         "y": [
          65.84798534798536,
          79.88461538461539,
          44.8003663003663,
          79.88461538461539,
          70.84432234432234,
          62.77106227106227,
          41.92673992673993,
          55.77289377289378
         ],
         "yaxis": "y"
        },
        {
         "mode": "lines+markers",
         "name": "LVQ3",
         "type": "scatter",
         "x": [
          0,
          1,
          2,
          3,
          4,
          5,
          6,
          7
         ],
         "xaxis": "x",
         "y": [
          75.84432234432236,
          79.6923076923077,
          77.38095238095238,
          81.22161172161171,
          81.21245421245422,
          83.14652014652015,
          81.59706959706959,
          84.67216117216117
         ],
         "yaxis": "y"
        }
       ],
       "layout": {
        "annotations": [
         {
          "font": {
           "size": 16
          },
          "showarrow": false,
          "text": "A",
          "x": 0.5,
          "xanchor": "center",
          "xref": "paper",
          "y": 1,
          "yanchor": "bottom",
          "yref": "paper"
         }
        ],
        "height": 1000,
        "template": {
         "data": {
          "bar": [
           {
            "error_x": {
             "color": "#2a3f5f"
            },
            "error_y": {
             "color": "#2a3f5f"
            },
            "marker": {
             "line": {
              "color": "#E5ECF6",
              "width": 0.5
             }
            },
            "type": "bar"
           }
          ],
          "barpolar": [
           {
            "marker": {
             "line": {
              "color": "#E5ECF6",
              "width": 0.5
             }
            },
            "type": "barpolar"
           }
          ],
          "carpet": [
           {
            "aaxis": {
             "endlinecolor": "#2a3f5f",
             "gridcolor": "white",
             "linecolor": "white",
             "minorgridcolor": "white",
             "startlinecolor": "#2a3f5f"
            },
            "baxis": {
             "endlinecolor": "#2a3f5f",
             "gridcolor": "white",
             "linecolor": "white",
             "minorgridcolor": "white",
             "startlinecolor": "#2a3f5f"
            },
            "type": "carpet"
           }
          ],
          "choropleth": [
           {
            "colorbar": {
             "outlinewidth": 0,
             "ticks": ""
            },
            "type": "choropleth"
           }
          ],
          "contour": [
           {
            "colorbar": {
             "outlinewidth": 0,
             "ticks": ""
            },
            "colorscale": [
             [
              0,
              "#0d0887"
             ],
             [
              0.1111111111111111,
              "#46039f"
             ],
             [
              0.2222222222222222,
              "#7201a8"
             ],
             [
              0.3333333333333333,
              "#9c179e"
             ],
             [
              0.4444444444444444,
              "#bd3786"
             ],
             [
              0.5555555555555556,
              "#d8576b"
             ],
             [
              0.6666666666666666,
              "#ed7953"
             ],
             [
              0.7777777777777778,
              "#fb9f3a"
             ],
             [
              0.8888888888888888,
              "#fdca26"
             ],
             [
              1,
              "#f0f921"
             ]
            ],
            "type": "contour"
           }
          ],
          "contourcarpet": [
           {
            "colorbar": {
             "outlinewidth": 0,
             "ticks": ""
            },
            "type": "contourcarpet"
           }
          ],
          "heatmap": [
           {
            "colorbar": {
             "outlinewidth": 0,
             "ticks": ""
            },
            "colorscale": [
             [
              0,
              "#0d0887"
             ],
             [
              0.1111111111111111,
              "#46039f"
             ],
             [
              0.2222222222222222,
              "#7201a8"
             ],
             [
              0.3333333333333333,
              "#9c179e"
             ],
             [
              0.4444444444444444,
              "#bd3786"
             ],
             [
              0.5555555555555556,
              "#d8576b"
             ],
             [
              0.6666666666666666,
              "#ed7953"
             ],
             [
              0.7777777777777778,
              "#fb9f3a"
             ],
             [
              0.8888888888888888,
              "#fdca26"
             ],
             [
              1,
              "#f0f921"
             ]
            ],
            "type": "heatmap"
           }
          ],
          "heatmapgl": [
           {
            "colorbar": {
             "outlinewidth": 0,
             "ticks": ""
            },
            "colorscale": [
             [
              0,
              "#0d0887"
             ],
             [
              0.1111111111111111,
              "#46039f"
             ],
             [
              0.2222222222222222,
              "#7201a8"
             ],
             [
              0.3333333333333333,
              "#9c179e"
             ],
             [
              0.4444444444444444,
              "#bd3786"
             ],
             [
              0.5555555555555556,
              "#d8576b"
             ],
             [
              0.6666666666666666,
              "#ed7953"
             ],
             [
              0.7777777777777778,
              "#fb9f3a"
             ],
             [
              0.8888888888888888,
              "#fdca26"
             ],
             [
              1,
              "#f0f921"
             ]
            ],
            "type": "heatmapgl"
           }
          ],
          "histogram": [
           {
            "marker": {
             "colorbar": {
              "outlinewidth": 0,
              "ticks": ""
             }
            },
            "type": "histogram"
           }
          ],
          "histogram2d": [
           {
            "colorbar": {
             "outlinewidth": 0,
             "ticks": ""
            },
            "colorscale": [
             [
              0,
              "#0d0887"
             ],
             [
              0.1111111111111111,
              "#46039f"
             ],
             [
              0.2222222222222222,
              "#7201a8"
             ],
             [
              0.3333333333333333,
              "#9c179e"
             ],
             [
              0.4444444444444444,
              "#bd3786"
             ],
             [
              0.5555555555555556,
              "#d8576b"
             ],
             [
              0.6666666666666666,
              "#ed7953"
             ],
             [
              0.7777777777777778,
              "#fb9f3a"
             ],
             [
              0.8888888888888888,
              "#fdca26"
             ],
             [
              1,
              "#f0f921"
             ]
            ],
            "type": "histogram2d"
           }
          ],
          "histogram2dcontour": [
           {
            "colorbar": {
             "outlinewidth": 0,
             "ticks": ""
            },
            "colorscale": [
             [
              0,
              "#0d0887"
             ],
             [
              0.1111111111111111,
              "#46039f"
             ],
             [
              0.2222222222222222,
              "#7201a8"
             ],
             [
              0.3333333333333333,
              "#9c179e"
             ],
             [
              0.4444444444444444,
              "#bd3786"
             ],
             [
              0.5555555555555556,
              "#d8576b"
             ],
             [
              0.6666666666666666,
              "#ed7953"
             ],
             [
              0.7777777777777778,
              "#fb9f3a"
             ],
             [
              0.8888888888888888,
              "#fdca26"
             ],
             [
              1,
              "#f0f921"
             ]
            ],
            "type": "histogram2dcontour"
           }
          ],
          "mesh3d": [
           {
            "colorbar": {
             "outlinewidth": 0,
             "ticks": ""
            },
            "type": "mesh3d"
           }
          ],
          "parcoords": [
           {
            "line": {
             "colorbar": {
              "outlinewidth": 0,
              "ticks": ""
             }
            },
            "type": "parcoords"
           }
          ],
          "pie": [
           {
            "automargin": true,
            "type": "pie"
           }
          ],
          "scatter": [
           {
            "marker": {
             "colorbar": {
              "outlinewidth": 0,
              "ticks": ""
             }
            },
            "type": "scatter"
           }
          ],
          "scatter3d": [
           {
            "line": {
             "colorbar": {
              "outlinewidth": 0,
              "ticks": ""
             }
            },
            "marker": {
             "colorbar": {
              "outlinewidth": 0,
              "ticks": ""
             }
            },
            "type": "scatter3d"
           }
          ],
          "scattercarpet": [
           {
            "marker": {
             "colorbar": {
              "outlinewidth": 0,
              "ticks": ""
             }
            },
            "type": "scattercarpet"
           }
          ],
          "scattergeo": [
           {
            "marker": {
             "colorbar": {
              "outlinewidth": 0,
              "ticks": ""
             }
            },
            "type": "scattergeo"
           }
          ],
          "scattergl": [
           {
            "marker": {
             "colorbar": {
              "outlinewidth": 0,
              "ticks": ""
             }
            },
            "type": "scattergl"
           }
          ],
          "scattermapbox": [
           {
            "marker": {
             "colorbar": {
              "outlinewidth": 0,
              "ticks": ""
             }
            },
            "type": "scattermapbox"
           }
          ],
          "scatterpolar": [
           {
            "marker": {
             "colorbar": {
              "outlinewidth": 0,
              "ticks": ""
             }
            },
            "type": "scatterpolar"
           }
          ],
          "scatterpolargl": [
           {
            "marker": {
             "colorbar": {
              "outlinewidth": 0,
              "ticks": ""
             }
            },
            "type": "scatterpolargl"
           }
          ],
          "scatterternary": [
           {
            "marker": {
             "colorbar": {
              "outlinewidth": 0,
              "ticks": ""
             }
            },
            "type": "scatterternary"
           }
          ],
          "surface": [
           {
            "colorbar": {
             "outlinewidth": 0,
             "ticks": ""
            },
            "colorscale": [
             [
              0,
              "#0d0887"
             ],
             [
              0.1111111111111111,
              "#46039f"
             ],
             [
              0.2222222222222222,
              "#7201a8"
             ],
             [
              0.3333333333333333,
              "#9c179e"
             ],
             [
              0.4444444444444444,
              "#bd3786"
             ],
             [
              0.5555555555555556,
              "#d8576b"
             ],
             [
              0.6666666666666666,
              "#ed7953"
             ],
             [
              0.7777777777777778,
              "#fb9f3a"
             ],
             [
              0.8888888888888888,
              "#fdca26"
             ],
             [
              1,
              "#f0f921"
             ]
            ],
            "type": "surface"
           }
          ],
          "table": [
           {
            "cells": {
             "fill": {
              "color": "#EBF0F8"
             },
             "line": {
              "color": "white"
             }
            },
            "header": {
             "fill": {
              "color": "#C8D4E3"
             },
             "line": {
              "color": "white"
             }
            },
            "type": "table"
           }
          ]
         },
         "layout": {
          "annotationdefaults": {
           "arrowcolor": "#2a3f5f",
           "arrowhead": 0,
           "arrowwidth": 1
          },
          "coloraxis": {
           "colorbar": {
            "outlinewidth": 0,
            "ticks": ""
           }
          },
          "colorscale": {
           "diverging": [
            [
             0,
             "#8e0152"
            ],
            [
             0.1,
             "#c51b7d"
            ],
            [
             0.2,
             "#de77ae"
            ],
            [
             0.3,
             "#f1b6da"
            ],
            [
             0.4,
             "#fde0ef"
            ],
            [
             0.5,
             "#f7f7f7"
            ],
            [
             0.6,
             "#e6f5d0"
            ],
            [
             0.7,
             "#b8e186"
            ],
            [
             0.8,
             "#7fbc41"
            ],
            [
             0.9,
             "#4d9221"
            ],
            [
             1,
             "#276419"
            ]
           ],
           "sequential": [
            [
             0,
             "#0d0887"
            ],
            [
             0.1111111111111111,
             "#46039f"
            ],
            [
             0.2222222222222222,
             "#7201a8"
            ],
            [
             0.3333333333333333,
             "#9c179e"
            ],
            [
             0.4444444444444444,
             "#bd3786"
            ],
            [
             0.5555555555555556,
             "#d8576b"
            ],
            [
             0.6666666666666666,
             "#ed7953"
            ],
            [
             0.7777777777777778,
             "#fb9f3a"
            ],
            [
             0.8888888888888888,
             "#fdca26"
            ],
            [
             1,
             "#f0f921"
            ]
           ],
           "sequentialminus": [
            [
             0,
             "#0d0887"
            ],
            [
             0.1111111111111111,
             "#46039f"
            ],
            [
             0.2222222222222222,
             "#7201a8"
            ],
            [
             0.3333333333333333,
             "#9c179e"
            ],
            [
             0.4444444444444444,
             "#bd3786"
            ],
            [
             0.5555555555555556,
             "#d8576b"
            ],
            [
             0.6666666666666666,
             "#ed7953"
            ],
            [
             0.7777777777777778,
             "#fb9f3a"
            ],
            [
             0.8888888888888888,
             "#fdca26"
            ],
            [
             1,
             "#f0f921"
            ]
           ]
          },
          "colorway": [
           "#636efa",
           "#EF553B",
           "#00cc96",
           "#ab63fa",
           "#FFA15A",
           "#19d3f3",
           "#FF6692",
           "#B6E880",
           "#FF97FF",
           "#FECB52"
          ],
          "font": {
           "color": "#2a3f5f"
          },
          "geo": {
           "bgcolor": "white",
           "lakecolor": "white",
           "landcolor": "#E5ECF6",
           "showlakes": true,
           "showland": true,
           "subunitcolor": "white"
          },
          "hoverlabel": {
           "align": "left"
          },
          "hovermode": "closest",
          "mapbox": {
           "style": "light"
          },
          "paper_bgcolor": "white",
          "plot_bgcolor": "#E5ECF6",
          "polar": {
           "angularaxis": {
            "gridcolor": "white",
            "linecolor": "white",
            "ticks": ""
           },
           "bgcolor": "#E5ECF6",
           "radialaxis": {
            "gridcolor": "white",
            "linecolor": "white",
            "ticks": ""
           }
          },
          "scene": {
           "xaxis": {
            "backgroundcolor": "#E5ECF6",
            "gridcolor": "white",
            "gridwidth": 2,
            "linecolor": "white",
            "showbackground": true,
            "ticks": "",
            "zerolinecolor": "white"
           },
           "yaxis": {
            "backgroundcolor": "#E5ECF6",
            "gridcolor": "white",
            "gridwidth": 2,
            "linecolor": "white",
            "showbackground": true,
            "ticks": "",
            "zerolinecolor": "white"
           },
           "zaxis": {
            "backgroundcolor": "#E5ECF6",
            "gridcolor": "white",
            "gridwidth": 2,
            "linecolor": "white",
            "showbackground": true,
            "ticks": "",
            "zerolinecolor": "white"
           }
          },
          "shapedefaults": {
           "line": {
            "color": "#2a3f5f"
           }
          },
          "ternary": {
           "aaxis": {
            "gridcolor": "white",
            "linecolor": "white",
            "ticks": ""
           },
           "baxis": {
            "gridcolor": "white",
            "linecolor": "white",
            "ticks": ""
           },
           "bgcolor": "#E5ECF6",
           "caxis": {
            "gridcolor": "white",
            "linecolor": "white",
            "ticks": ""
           }
          },
          "title": {
           "x": 0.05
          },
          "xaxis": {
           "automargin": true,
           "gridcolor": "white",
           "linecolor": "white",
           "ticks": "",
           "title": {
            "standoff": 15
           },
           "zerolinecolor": "white",
           "zerolinewidth": 2
          },
          "yaxis": {
           "automargin": true,
           "gridcolor": "white",
           "linecolor": "white",
           "ticks": "",
           "title": {
            "standoff": 15
           },
           "zerolinecolor": "white",
           "zerolinewidth": 2
          }
         }
        },
        "width": 1000,
        "xaxis": {
         "anchor": "y",
         "domain": [
          0,
          1
         ]
        },
        "yaxis": {
         "anchor": "x",
         "domain": [
          0,
          1
         ]
        }
       }
      },
      "text/html": [
       "<div>                            <div id=\"f827963a-dc52-4922-9674-e754d05b550d\" class=\"plotly-graph-div\" style=\"height:1000px; width:1000px;\"></div>            <script type=\"text/javascript\">                require([\"plotly\"], function(Plotly) {                    window.PLOTLYENV=window.PLOTLYENV || {};                                    if (document.getElementById(\"f827963a-dc52-4922-9674-e754d05b550d\")) {                    Plotly.newPlot(                        \"f827963a-dc52-4922-9674-e754d05b550d\",                        [{\"mode\": \"lines+markers\", \"name\": \"Simples\", \"type\": \"scatter\", \"x\": [0, 1, 2, 3, 4, 5, 6, 7], \"xaxis\": \"x\", \"y\": [98.46520146520147, 88.13003663003664, 98.46520146520147, 88.13003663003664, 98.46520146520147, 88.13003663003664, 98.46520146520147, 88.13003663003664], \"yaxis\": \"y\"}, {\"mode\": \"lines+markers\", \"name\": \"LVQ1\", \"type\": \"scatter\", \"x\": [0, 1, 2, 3, 4, 5, 6, 7], \"xaxis\": \"x\", \"y\": [75.65201465201467, 77.1923076923077, 78.52564102564102, 80.83699633699634, 83.90293040293041, 83.71978021978022, 77.58424908424908, 84.4835164835165], \"yaxis\": \"y\"}, {\"mode\": \"lines+markers\", \"name\": \"LVQ2.1\", \"type\": \"scatter\", \"x\": [0, 1, 2, 3, 4, 5, 6, 7], \"xaxis\": \"x\", \"y\": [65.84798534798536, 79.88461538461539, 44.8003663003663, 79.88461538461539, 70.84432234432234, 62.77106227106227, 41.92673992673993, 55.77289377289378], \"yaxis\": \"y\"}, {\"mode\": \"lines+markers\", \"name\": \"LVQ3\", \"type\": \"scatter\", \"x\": [0, 1, 2, 3, 4, 5, 6, 7], \"xaxis\": \"x\", \"y\": [75.84432234432236, 79.6923076923077, 77.38095238095238, 81.22161172161171, 81.21245421245422, 83.14652014652015, 81.59706959706959, 84.67216117216117], \"yaxis\": \"y\"}],                        {\"annotations\": [{\"font\": {\"size\": 16}, \"showarrow\": false, \"text\": \"A\", \"x\": 0.5, \"xanchor\": \"center\", \"xref\": \"paper\", \"y\": 1.0, \"yanchor\": \"bottom\", \"yref\": \"paper\"}], \"height\": 1000, \"template\": {\"data\": {\"bar\": [{\"error_x\": {\"color\": \"#2a3f5f\"}, \"error_y\": {\"color\": \"#2a3f5f\"}, \"marker\": {\"line\": {\"color\": \"#E5ECF6\", \"width\": 0.5}}, \"type\": \"bar\"}], \"barpolar\": [{\"marker\": {\"line\": {\"color\": \"#E5ECF6\", \"width\": 0.5}}, \"type\": \"barpolar\"}], \"carpet\": [{\"aaxis\": {\"endlinecolor\": \"#2a3f5f\", \"gridcolor\": \"white\", \"linecolor\": \"white\", \"minorgridcolor\": \"white\", \"startlinecolor\": \"#2a3f5f\"}, \"baxis\": {\"endlinecolor\": \"#2a3f5f\", \"gridcolor\": \"white\", \"linecolor\": \"white\", \"minorgridcolor\": \"white\", \"startlinecolor\": \"#2a3f5f\"}, \"type\": \"carpet\"}], \"choropleth\": [{\"colorbar\": {\"outlinewidth\": 0, \"ticks\": \"\"}, \"type\": \"choropleth\"}], \"contour\": [{\"colorbar\": {\"outlinewidth\": 0, \"ticks\": \"\"}, \"colorscale\": [[0.0, \"#0d0887\"], [0.1111111111111111, \"#46039f\"], [0.2222222222222222, \"#7201a8\"], [0.3333333333333333, \"#9c179e\"], [0.4444444444444444, \"#bd3786\"], [0.5555555555555556, \"#d8576b\"], [0.6666666666666666, \"#ed7953\"], [0.7777777777777778, \"#fb9f3a\"], [0.8888888888888888, \"#fdca26\"], [1.0, \"#f0f921\"]], \"type\": \"contour\"}], \"contourcarpet\": [{\"colorbar\": {\"outlinewidth\": 0, \"ticks\": \"\"}, \"type\": \"contourcarpet\"}], \"heatmap\": [{\"colorbar\": {\"outlinewidth\": 0, \"ticks\": \"\"}, \"colorscale\": [[0.0, \"#0d0887\"], [0.1111111111111111, \"#46039f\"], [0.2222222222222222, \"#7201a8\"], [0.3333333333333333, \"#9c179e\"], [0.4444444444444444, \"#bd3786\"], [0.5555555555555556, \"#d8576b\"], [0.6666666666666666, \"#ed7953\"], [0.7777777777777778, \"#fb9f3a\"], [0.8888888888888888, \"#fdca26\"], [1.0, \"#f0f921\"]], \"type\": \"heatmap\"}], \"heatmapgl\": [{\"colorbar\": {\"outlinewidth\": 0, \"ticks\": \"\"}, \"colorscale\": [[0.0, \"#0d0887\"], [0.1111111111111111, \"#46039f\"], [0.2222222222222222, \"#7201a8\"], [0.3333333333333333, \"#9c179e\"], [0.4444444444444444, \"#bd3786\"], [0.5555555555555556, \"#d8576b\"], [0.6666666666666666, \"#ed7953\"], [0.7777777777777778, \"#fb9f3a\"], [0.8888888888888888, \"#fdca26\"], [1.0, \"#f0f921\"]], \"type\": \"heatmapgl\"}], \"histogram\": [{\"marker\": {\"colorbar\": {\"outlinewidth\": 0, \"ticks\": \"\"}}, \"type\": \"histogram\"}], \"histogram2d\": [{\"colorbar\": {\"outlinewidth\": 0, \"ticks\": \"\"}, \"colorscale\": [[0.0, \"#0d0887\"], [0.1111111111111111, \"#46039f\"], [0.2222222222222222, \"#7201a8\"], [0.3333333333333333, \"#9c179e\"], [0.4444444444444444, \"#bd3786\"], [0.5555555555555556, \"#d8576b\"], [0.6666666666666666, \"#ed7953\"], [0.7777777777777778, \"#fb9f3a\"], [0.8888888888888888, \"#fdca26\"], [1.0, \"#f0f921\"]], \"type\": \"histogram2d\"}], \"histogram2dcontour\": [{\"colorbar\": {\"outlinewidth\": 0, \"ticks\": \"\"}, \"colorscale\": [[0.0, \"#0d0887\"], [0.1111111111111111, \"#46039f\"], [0.2222222222222222, \"#7201a8\"], [0.3333333333333333, \"#9c179e\"], [0.4444444444444444, \"#bd3786\"], [0.5555555555555556, \"#d8576b\"], [0.6666666666666666, \"#ed7953\"], [0.7777777777777778, \"#fb9f3a\"], [0.8888888888888888, \"#fdca26\"], [1.0, \"#f0f921\"]], \"type\": \"histogram2dcontour\"}], \"mesh3d\": [{\"colorbar\": {\"outlinewidth\": 0, \"ticks\": \"\"}, \"type\": \"mesh3d\"}], \"parcoords\": [{\"line\": {\"colorbar\": {\"outlinewidth\": 0, \"ticks\": \"\"}}, \"type\": \"parcoords\"}], \"pie\": [{\"automargin\": true, \"type\": \"pie\"}], \"scatter\": [{\"marker\": {\"colorbar\": {\"outlinewidth\": 0, \"ticks\": \"\"}}, \"type\": \"scatter\"}], \"scatter3d\": [{\"line\": {\"colorbar\": {\"outlinewidth\": 0, \"ticks\": \"\"}}, \"marker\": {\"colorbar\": {\"outlinewidth\": 0, \"ticks\": \"\"}}, \"type\": \"scatter3d\"}], \"scattercarpet\": [{\"marker\": {\"colorbar\": {\"outlinewidth\": 0, \"ticks\": \"\"}}, \"type\": \"scattercarpet\"}], \"scattergeo\": [{\"marker\": {\"colorbar\": {\"outlinewidth\": 0, \"ticks\": \"\"}}, \"type\": \"scattergeo\"}], \"scattergl\": [{\"marker\": {\"colorbar\": {\"outlinewidth\": 0, \"ticks\": \"\"}}, \"type\": \"scattergl\"}], \"scattermapbox\": [{\"marker\": {\"colorbar\": {\"outlinewidth\": 0, \"ticks\": \"\"}}, \"type\": \"scattermapbox\"}], \"scatterpolar\": [{\"marker\": {\"colorbar\": {\"outlinewidth\": 0, \"ticks\": \"\"}}, \"type\": \"scatterpolar\"}], \"scatterpolargl\": [{\"marker\": {\"colorbar\": {\"outlinewidth\": 0, \"ticks\": \"\"}}, \"type\": \"scatterpolargl\"}], \"scatterternary\": [{\"marker\": {\"colorbar\": {\"outlinewidth\": 0, \"ticks\": \"\"}}, \"type\": \"scatterternary\"}], \"surface\": [{\"colorbar\": {\"outlinewidth\": 0, \"ticks\": \"\"}, \"colorscale\": [[0.0, \"#0d0887\"], [0.1111111111111111, \"#46039f\"], [0.2222222222222222, \"#7201a8\"], [0.3333333333333333, \"#9c179e\"], [0.4444444444444444, \"#bd3786\"], [0.5555555555555556, \"#d8576b\"], [0.6666666666666666, \"#ed7953\"], [0.7777777777777778, \"#fb9f3a\"], [0.8888888888888888, \"#fdca26\"], [1.0, \"#f0f921\"]], \"type\": \"surface\"}], \"table\": [{\"cells\": {\"fill\": {\"color\": \"#EBF0F8\"}, \"line\": {\"color\": \"white\"}}, \"header\": {\"fill\": {\"color\": \"#C8D4E3\"}, \"line\": {\"color\": \"white\"}}, \"type\": \"table\"}]}, \"layout\": {\"annotationdefaults\": {\"arrowcolor\": \"#2a3f5f\", \"arrowhead\": 0, \"arrowwidth\": 1}, \"coloraxis\": {\"colorbar\": {\"outlinewidth\": 0, \"ticks\": \"\"}}, \"colorscale\": {\"diverging\": [[0, \"#8e0152\"], [0.1, \"#c51b7d\"], [0.2, \"#de77ae\"], [0.3, \"#f1b6da\"], [0.4, \"#fde0ef\"], [0.5, \"#f7f7f7\"], [0.6, \"#e6f5d0\"], [0.7, \"#b8e186\"], [0.8, \"#7fbc41\"], [0.9, \"#4d9221\"], [1, \"#276419\"]], \"sequential\": [[0.0, \"#0d0887\"], [0.1111111111111111, \"#46039f\"], [0.2222222222222222, \"#7201a8\"], [0.3333333333333333, \"#9c179e\"], [0.4444444444444444, \"#bd3786\"], [0.5555555555555556, \"#d8576b\"], [0.6666666666666666, \"#ed7953\"], [0.7777777777777778, \"#fb9f3a\"], [0.8888888888888888, \"#fdca26\"], [1.0, \"#f0f921\"]], \"sequentialminus\": [[0.0, \"#0d0887\"], [0.1111111111111111, \"#46039f\"], [0.2222222222222222, \"#7201a8\"], [0.3333333333333333, \"#9c179e\"], [0.4444444444444444, \"#bd3786\"], [0.5555555555555556, \"#d8576b\"], [0.6666666666666666, \"#ed7953\"], [0.7777777777777778, \"#fb9f3a\"], [0.8888888888888888, \"#fdca26\"], [1.0, \"#f0f921\"]]}, \"colorway\": [\"#636efa\", \"#EF553B\", \"#00cc96\", \"#ab63fa\", \"#FFA15A\", \"#19d3f3\", \"#FF6692\", \"#B6E880\", \"#FF97FF\", \"#FECB52\"], \"font\": {\"color\": \"#2a3f5f\"}, \"geo\": {\"bgcolor\": \"white\", \"lakecolor\": \"white\", \"landcolor\": \"#E5ECF6\", \"showlakes\": true, \"showland\": true, \"subunitcolor\": \"white\"}, \"hoverlabel\": {\"align\": \"left\"}, \"hovermode\": \"closest\", \"mapbox\": {\"style\": \"light\"}, \"paper_bgcolor\": \"white\", \"plot_bgcolor\": \"#E5ECF6\", \"polar\": {\"angularaxis\": {\"gridcolor\": \"white\", \"linecolor\": \"white\", \"ticks\": \"\"}, \"bgcolor\": \"#E5ECF6\", \"radialaxis\": {\"gridcolor\": \"white\", \"linecolor\": \"white\", \"ticks\": \"\"}}, \"scene\": {\"xaxis\": {\"backgroundcolor\": \"#E5ECF6\", \"gridcolor\": \"white\", \"gridwidth\": 2, \"linecolor\": \"white\", \"showbackground\": true, \"ticks\": \"\", \"zerolinecolor\": \"white\"}, \"yaxis\": {\"backgroundcolor\": \"#E5ECF6\", \"gridcolor\": \"white\", \"gridwidth\": 2, \"linecolor\": \"white\", \"showbackground\": true, \"ticks\": \"\", \"zerolinecolor\": \"white\"}, \"zaxis\": {\"backgroundcolor\": \"#E5ECF6\", \"gridcolor\": \"white\", \"gridwidth\": 2, \"linecolor\": \"white\", \"showbackground\": true, \"ticks\": \"\", \"zerolinecolor\": \"white\"}}, \"shapedefaults\": {\"line\": {\"color\": \"#2a3f5f\"}}, \"ternary\": {\"aaxis\": {\"gridcolor\": \"white\", \"linecolor\": \"white\", \"ticks\": \"\"}, \"baxis\": {\"gridcolor\": \"white\", \"linecolor\": \"white\", \"ticks\": \"\"}, \"bgcolor\": \"#E5ECF6\", \"caxis\": {\"gridcolor\": \"white\", \"linecolor\": \"white\", \"ticks\": \"\"}}, \"title\": {\"x\": 0.05}, \"xaxis\": {\"automargin\": true, \"gridcolor\": \"white\", \"linecolor\": \"white\", \"ticks\": \"\", \"title\": {\"standoff\": 15}, \"zerolinecolor\": \"white\", \"zerolinewidth\": 2}, \"yaxis\": {\"automargin\": true, \"gridcolor\": \"white\", \"linecolor\": \"white\", \"ticks\": \"\", \"title\": {\"standoff\": 15}, \"zerolinecolor\": \"white\", \"zerolinewidth\": 2}}}, \"width\": 1000, \"xaxis\": {\"anchor\": \"y\", \"domain\": [0.0, 1.0]}, \"yaxis\": {\"anchor\": \"x\", \"domain\": [0.0, 1.0]}},                        {\"responsive\": true}                    ).then(function(){\n",
       "                            \n",
       "var gd = document.getElementById('f827963a-dc52-4922-9674-e754d05b550d');\n",
       "var x = new MutationObserver(function (mutations, observer) {{\n",
       "        var display = window.getComputedStyle(gd).display;\n",
       "        if (!display || display === 'none') {{\n",
       "            console.log([gd, 'removed!']);\n",
       "            Plotly.purge(gd);\n",
       "            observer.disconnect();\n",
       "        }}\n",
       "}});\n",
       "\n",
       "// Listen for the removal of the full notebook cells\n",
       "var notebookContainer = gd.closest('#notebook-container');\n",
       "if (notebookContainer) {{\n",
       "    x.observe(notebookContainer, {childList: true});\n",
       "}}\n",
       "\n",
       "// Listen for the clearing of the current output cell\n",
       "var outputEl = gd.closest('.output');\n",
       "if (outputEl) {{\n",
       "    x.observe(outputEl, {childList: true});\n",
       "}}\n",
       "\n",
       "                        })                };                });            </script>        </div>"
      ]
     },
     "metadata": {},
     "output_type": "display_data"
    }
   ],
   "source": [
    "fig = _printComparative(df)\n",
    "fig.show()"
   ]
  },
  {
   "cell_type": "raw",
   "metadata": {},
   "source": []
  }
 ],
 "metadata": {
  "colab": {
   "collapsed_sections": [],
   "name": "atv-1.ipynb",
   "provenance": [],
   "toc_visible": true
  },
  "kernelspec": {
   "display_name": "Python 3",
   "language": "python",
   "name": "python3"
  },
  "language_info": {
   "codemirror_mode": {
    "name": "ipython",
    "version": 3
   },
   "file_extension": ".py",
   "mimetype": "text/x-python",
   "name": "python",
   "nbconvert_exporter": "python",
   "pygments_lexer": "ipython3",
   "version": "3.6.9"
  }
 },
 "nbformat": 4,
 "nbformat_minor": 1
}
